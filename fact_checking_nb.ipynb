{
  "cells": [
    {
      "cell_type": "markdown",
      "metadata": {
        "id": "Mn6RzzFSzOrI"
      },
      "source": [
        "# 1. Libraries"
      ]
    },
    {
      "cell_type": "code",
      "execution_count": 5,
      "metadata": {},
      "outputs": [],
      "source": [
        "%%capture\n",
        "%pip install tensorflow-addons\n",
        "%pip install keras-tuner tensorflow-addons"
      ]
    },
    {
      "cell_type": "code",
      "execution_count": null,
      "metadata": {
        "colab": {
          "base_uri": "https://localhost:8080/"
        },
        "id": "6YlRZIw8zICh",
        "outputId": "d8fc2d41-40a2-48e0-99c8-afe4daebbb10"
      },
      "outputs": [],
      "source": [
        "# Libraries\n",
        "# system packages\n",
        "import os\n",
        "import requests\n",
        "import zipfile\n",
        "\n",
        "# data and numerical management packages\n",
        "import pandas as pd\n",
        "import numpy as np\n",
        "import matplotlib.pyplot as plt \n",
        "import seaborn as sns\n",
        "\n",
        "# useful during debugging (progress bars)\n",
        "from tqdm import tqdm\n",
        "\n",
        "# typing\n",
        "from typing import List, Callable, Dict\n",
        "\n",
        "import gensim\n",
        "import gensim.downloader as gloader\n",
        "from gensim.models.keyedvectors import KeyedVectors\n",
        "\n",
        "import re\n",
        "from functools import reduce\n",
        "import nltk\n",
        "from nltk.corpus import stopwords\n",
        "\n",
        "import tensorflow as tf\n",
        "import tensorflow_addons as tfa\n",
        "from tensorflow import keras\n",
        "import keras_tuner as kt\n",
        "from keras.models import Model\n",
        "from keras.layers import Embedding\n",
        "from keras.layers import Dense, Input\n",
        "from keras.layers import TimeDistributed\n",
        "from keras.layers import LSTM, GRU, Bidirectional, Dropout, RNN\n",
        "from keras.preprocessing.sequence import pad_sequences\n",
        "from keras.layers.merge import Concatenate\n",
        "from keras.preprocessing.text import Tokenizer\n",
        "from tensorflow.keras.utils import to_categorical\n",
        "from sklearn.metrics import f1_score, accuracy_score, classification_report, confusion_matrix, ConfusionMatrixDisplay"
      ]
    },
    {
      "cell_type": "code",
      "execution_count": null,
      "metadata": {
        "colab": {
          "base_uri": "https://localhost:8080/"
        },
        "id": "G-ryRSDnQ_TU",
        "outputId": "3942339e-cd1a-4c54-b4d7-caed9b9a4f76"
      },
      "outputs": [],
      "source": [
        "from google.colab import drive\n",
        "drive.mount('/content/drive/')"
      ]
    },
    {
      "cell_type": "markdown",
      "metadata": {
        "id": "kYAAvhgfmllp"
      },
      "source": [
        "Remeber to set the folder where the user is located. If ran in Google Drive you can set the notebook in any folder `dir` and run `%cd MyDrive/dir`."
      ]
    },
    {
      "cell_type": "code",
      "execution_count": null,
      "metadata": {
        "colab": {
          "base_uri": "https://localhost:8080/"
        },
        "id": "yI1nfu-wRXJg",
        "outputId": "0548f532-8fca-4da1-845c-7a0022957ca5"
      },
      "outputs": [],
      "source": [
        "%cd drive/MyDrive/NLP/Assignment2/Eric/"
      ]
    },
    {
      "cell_type": "markdown",
      "metadata": {
        "id": "54j64tI1tV07"
      },
      "source": [
        "This flag serves to activate the automatic tuning process. By default is set to `False`, since all the test were done in advance by us."
      ]
    },
    {
      "cell_type": "code",
      "execution_count": 13,
      "metadata": {
        "id": "mjoJ3fWZagSu"
      },
      "outputs": [],
      "source": [
        "keras_tuner = False"
      ]
    },
    {
      "cell_type": "markdown",
      "metadata": {
        "id": "Sk1fgbfS_7Sv"
      },
      "source": [
        "## 1.1 GloVe loading\n",
        "\n",
        "In this subsection we load the GloVe pre-trained embeddings that will be used in the various models. We fixed the embedding dimension since it will not affect by much the performance. "
      ]
    },
    {
      "cell_type": "code",
      "execution_count": 5,
      "metadata": {
        "id": "LHF-hn_V_-Ii"
      },
      "outputs": [],
      "source": [
        "def load_glove(embedding_dimension: int) -> gensim.models.keyedvectors.KeyedVectors:\n",
        "  \"\"\"\n",
        "  Loads a pre-trained GloVe embedding model via gensim library.\n",
        "\n",
        "  We have a matrix that associate words to a vector of a user-defined dimension.\n",
        "  \"\"\"\n",
        "\n",
        "  download_path = \"glove-wiki-gigaword-{}\".format(embedding_dimension)\n",
        "\n",
        "  # check the download process\n",
        "  try:\n",
        "    emb_model = gloader.load(download_path)\n",
        "  except ValueError as e:\n",
        "    print(\"Generic error when loading GloVe\")\n",
        "    print(\"Check embedding dimension\")\n",
        "    raise e\n",
        "\n",
        "  emb_model = gloader.load(download_path)\n",
        "  return emb_model\n",
        "\n",
        "# Parameters\n",
        "embedding_dimension = 300"
      ]
    },
    {
      "cell_type": "markdown",
      "metadata": {
        "id": "_WVxlXLBsCIE"
      },
      "source": [
        "Note that the download will take a while."
      ]
    },
    {
      "cell_type": "code",
      "execution_count": 6,
      "metadata": {
        "id": "iCTNXv8VACwS"
      },
      "outputs": [],
      "source": [
        "try:\n",
        "    embedding_model = KeyedVectors.load(f'glove_model_{embedding_dimension}')\n",
        "except FileNotFoundError:\n",
        "    print('[Warning] Model not found in folder, please wait...')\n",
        "    embedding_model = load_glove(embedding_dimension)\n",
        "    embedding_model.save(f'glove_model_{embedding_dimension}')  \n",
        "    print('Download finished. Model loaded!')"
      ]
    },
    {
      "cell_type": "markdown",
      "metadata": {
        "id": "1u94VrUrzRyL"
      },
      "source": [
        "# 2. Dataset\n"
      ]
    },
    {
      "cell_type": "markdown",
      "metadata": {
        "id": "Nii-PRcHbctt"
      },
      "source": [
        "## 2.1 Downloading"
      ]
    },
    {
      "cell_type": "markdown",
      "metadata": {
        "id": "1BapPILxFgvv"
      },
      "source": [
        "First of all we need to download a pre-processed version of the **FEVER dataset**."
      ]
    },
    {
      "cell_type": "code",
      "execution_count": 7,
      "metadata": {
        "id": "1l6mJu97zS3W"
      },
      "outputs": [],
      "source": [
        "def save_response_content(response, destination):\n",
        "    CHUNK_SIZE = 32768\n",
        "\n",
        "    with open(destination, \"wb\") as f:\n",
        "        for chunk in response.iter_content(CHUNK_SIZE):\n",
        "            if chunk: # filter out keep-alive new chunks\n",
        "                f.write(chunk)\n",
        "\n",
        "def download_data(data_path):\n",
        "    fever_data_path = os.path.join(data_path, 'fever_data.zip')\n",
        "    data_url_id = \"1wArZhF9_SHW17WKNGeLmX-QTYw9Zscl1\"\n",
        "    url = \"https://docs.google.com/uc?export=download\"\n",
        "\n",
        "    if not os.path.exists(data_path):\n",
        "        os.makedirs(data_path)\n",
        "\n",
        "    if not os.path.exists(fever_data_path):\n",
        "        print(\"Downloading FEVER data splits...\")\n",
        "        with requests.Session() as current_session:\n",
        "            response = current_session.get(url,\n",
        "                                   params={'id': data_url_id},\n",
        "                                   stream=True)\n",
        "        save_response_content(response, fever_data_path)\n",
        "        print(\"Download completed!\")\n",
        "\n",
        "        print(\"Extracting dataset...\")\n",
        "        with zipfile.ZipFile(fever_data_path) as loaded_zip:\n",
        "            loaded_zip.extractall(data_path)\n",
        "        print(\"Extraction completed!\")\n",
        "\n",
        "download_data('dataset')"
      ]
    },
    {
      "cell_type": "markdown",
      "metadata": {
        "id": "WCreA3p60HLC"
      },
      "source": [
        "## 2.2 Loading"
      ]
    },
    {
      "cell_type": "markdown",
      "metadata": {
        "id": "e08tIyGEFu1-"
      },
      "source": [
        "Then we load the three splits train, val and test pairs from the csv and they will be converted in a `Pandas DataFrame`."
      ]
    },
    {
      "cell_type": "code",
      "execution_count": 8,
      "metadata": {
        "id": "fPkiUdjG0KmW"
      },
      "outputs": [],
      "source": [
        "df_train = pd.read_csv('dataset/train_pairs.csv', index_col=[0])\n",
        "df_val = pd.read_csv('dataset/val_pairs.csv', index_col=[0])\n",
        "df_test = pd.read_csv('dataset/test_pairs.csv', index_col=[0])\n",
        "df_complete = pd.concat([df_train, df_val, df_test])"
      ]
    },
    {
      "cell_type": "markdown",
      "metadata": {
        "id": "th_VRwsH24q-"
      },
      "source": [
        "As said before, the provided splits contain data in the form of pairs, that is each sample is composed in the following manner:\n",
        "\n",
        "$$\n",
        "  <claim, evidence>\n",
        "$$\n",
        "where both the $claim$ and the $evidence$ are strings of arbitrary size representing an evidence that supports or refutes the associated claim.\n",
        "\n",
        "\n",
        "Let's see how a **claim** and an **evidence** are displayed."
      ]
    },
    {
      "cell_type": "code",
      "execution_count": 9,
      "metadata": {
        "colab": {
          "base_uri": "https://localhost:8080/"
        },
        "id": "ryq4UQ333CPT",
        "outputId": "2fe0353b-38f1-408f-ab5c-922cfd4f1811"
      },
      "outputs": [
        {
          "name": "stdout",
          "output_type": "stream",
          "text": [
            "Claims (training set): \n",
            "0    Chris Hemsworth appeared in A Perfect Getaway.\n",
            "1                           Roald Dahl is a writer.\n",
            "2                         Roald Dahl is a governor.\n",
            "3       Ireland has relatively low-lying mountains.\n",
            "Name: Claim, dtype: object\n",
            "\n",
            "==================================================\n",
            "\n",
            "Evidences (training set): \n",
            "0    2\\tHemsworth has also appeared in the science ...\n",
            "1    0\\tRoald Dahl -LRB- -LSB- langpronˈroʊ.əld _ ˈ...\n",
            "2    0\\tRoald Dahl -LRB- -LSB- langpronˈroʊ.əld _ ˈ...\n",
            "3    10\\tThe island 's geography comprises relative...\n",
            "Name: Evidence, dtype: object\n"
          ]
        }
      ],
      "source": [
        "print(f'Claims (training set): \\n{df_train[\"Claim\"][:4]}')\n",
        "\n",
        "print()\n",
        "print(\"==\"*25)\n",
        "print()\n",
        "\n",
        "print(f'Evidences (training set): \\n{df_train[\"Evidence\"][:4]}')"
      ]
    },
    {
      "cell_type": "markdown",
      "metadata": {
        "id": "xy1XwbR9zT7g"
      },
      "source": [
        "## 2.3 Dataset preprocessing"
      ]
    },
    {
      "cell_type": "markdown",
      "metadata": {
        "id": "l3zuTSaeF2y1"
      },
      "source": [
        "As we can see in the before cell, the dataset needs a bit of processing in order to be correctly fed into the network.\n",
        "\n",
        "Let's define symbols that can be kept, other symbols that should be replaced by a whitespace. Furthermore we define also the **stopwords**, taking them from NLTK library."
      ]
    },
    {
      "cell_type": "code",
      "execution_count": 10,
      "metadata": {
        "colab": {
          "base_uri": "https://localhost:8080/"
        },
        "id": "zwHAUfagltVC",
        "outputId": "9f087df3-00fb-4e99-d417-33197659b8dd"
      },
      "outputs": [
        {
          "name": "stdout",
          "output_type": "stream",
          "text": [
            "{'some', 'are', 'won', 'mustn', 'very', 'll', 'these', 'of', 'y', 've', 'yours', 'can', 'they', 'has', 'she', 'ourselves', 'only', 'same', 'aren', 'by', 'your', 'up', 'be', 'does', 'the', 'few', \"it's\", 'wasn', 'what', 'doesn', 'or', 'them', 'for', 'as', 'but', 'it', 'hasn', \"haven't\", 'm', 'and', 'shan', 'am', 'mightn', \"you'll\", 'through', 'down', 'too', \"should've\", 'you', 'there', 'a', 'other', 'nor', 'yourselves', 'to', 'than', 'ma', 'he', 'his', 'have', 'here', 'is', 'if', 'above', 'how', 'will', 'themselves', 'having', 'doing', 'any', 'against', 'who', 'between', 'were', 'couldn', 'wouldn', 'been', 'him', \"hasn't\", 'so', 'theirs', \"you've\", 'that', 'this', 'those', \"you're\", 'into', 'then', 'about', 'out', 'all', 'its', 'off', 'why', 'o', 'both', 'in', 'her', 'do', 'over', 'don', 'which', 'until', 'myself', \"she's\", 'after', 'whom', 'was', 'once', \"that'll\", 'me', 'we', 'while', 'being', 'd', 'more', 'again', 'hers', 'i', 'herself', 'needn', 'on', 'with', 'before', 'ain', 'didn', 'under', 'haven', 'no', 'did', 'my', 'own', 'from', 'himself', 'had', 'at', 's', 're', 'hadn', 'weren', 'yourself', 'because', 'most', 'an', 'below', 'should', 'just', 'when', 'itself', 'shouldn', 'further', 'where', \"you'd\", 'ours', 'each', 'their', 'isn', 'now', 'during', 'such', 'our'}\n"
          ]
        }
      ],
      "source": [
        "# Using stopwords utility from nltk\n",
        "try:\n",
        "    STOPWORDS = set(stopwords.words('english'))\n",
        "except LookupError:\n",
        "    nltk.download('stopwords')\n",
        "    STOPWORDS = set(stopwords.words('english'))\n",
        "\n",
        "STOPWORDS = STOPWORDS.difference(set(['not','t',\"doesn't\",\"won't\",\"mightn't\",\"needn't\",\"wouldn'\",\"wouldn't\",\"weren't\",\"didn't\",\"hadn't\",\"wasn't\",\"don't\",\"isn'\",\"isn't\",\"shan't\",\"aren't\",\"couldn't\",\"mustn't\",\"hadn'\",\"shouldn't\"]))\n",
        "\n",
        "print(STOPWORDS)\n",
        "# This characters need to be replaced by whitespaces\n",
        "REPLACE_BY_SPACE_RE = re.compile(\"[/(){}\\[\\]\\|@;_\\t]\")\n",
        "# This characters should be kept\n",
        "GOOD_SYMBOLS_RE = re.compile('[^0-9a-z #+,]')"
      ]
    },
    {
      "cell_type": "markdown",
      "metadata": {
        "id": "g1KUUfiIF6O9"
      },
      "source": [
        "Preprocessing functions:"
      ]
    },
    {
      "cell_type": "code",
      "execution_count": 11,
      "metadata": {
        "id": "j9zXv9YTzVWF"
      },
      "outputs": [],
      "source": [
        "def lower(text: str) -> str:\n",
        "    \"\"\"\n",
        "    Transforms given text to lower case.\n",
        "    Example:\n",
        "    Input: 'I really like New York city'\n",
        "    Output: 'i really like new your city'\n",
        "    \"\"\"\n",
        "\n",
        "    return text.lower()\n",
        "\n",
        "def replace_brackets(text: str)-> str:\n",
        "  return re.sub(r'-\\w*-','',text)\n",
        "\n",
        "def replace_special_characters(text: str) -> str:\n",
        "    \"\"\"\n",
        "    Replaces special characters, such as paranthesis,\n",
        "    with spacing character\n",
        "    \"\"\"\n",
        "    return REPLACE_BY_SPACE_RE.sub(' ', text)\n",
        "\n",
        "def filter_out_uncommon_symbols(text: str) -> str:\n",
        "    \"\"\"\n",
        "    Removes any special character that is not in the\n",
        "    good symbols list (check regular expression)\n",
        "    \"\"\"\n",
        "\n",
        "    return GOOD_SYMBOLS_RE.sub('', text)\n",
        "\n",
        "def remove_stopwords(text: str) -> str:\n",
        "    \"\"\"\n",
        "    Removes any stopword.\n",
        "    \"\"\"\n",
        "    return ' '.join([x for x in text.split() if x and x not in STOPWORDS])\n",
        "\n",
        "def digit(text: str) -> str:\n",
        "    \"\"\"\n",
        "    Removes any decimal digit([0-9]).\n",
        "    \"\"\"\n",
        "    return re.sub(r'\\d','',text)\n",
        "\n",
        "def strip_text(text: str) -> str:\n",
        "    \"\"\"\n",
        "    Removes any left or right spacing (including carriage return) from text.\n",
        "    Example:\n",
        "    Input: 'This assignment is cool\\n'\n",
        "    Output: 'This assignment is cool'\n",
        "    \"\"\"\n",
        "\n",
        "    return text.strip('')\n",
        "\n",
        "def remove_duplicates(text: str) -> str:\n",
        "    \"\"\"\n",
        "    Removes duplicate words. \n",
        "    \"\"\"\n",
        "    return (' '.join(dict.fromkeys(text.split(' '))))\n",
        "\n",
        "PREPROCESSING_PIPELINE = [\n",
        "                          lower,\n",
        "                          replace_special_characters,\n",
        "                          replace_brackets,\n",
        "                          filter_out_uncommon_symbols,\n",
        "                          remove_stopwords,\n",
        "                          digit,\n",
        "                          remove_duplicates,\n",
        "                          strip_text\n",
        "                          ]\n",
        "\n",
        "\n",
        "def text_prepare(text: str,\n",
        "                 filter_methods: List[Callable[[str], str]] = None) -> str:\n",
        "    \"\"\"\n",
        "    Applies a list of pre-processing functions in sequence (reduce).\n",
        "    Note that the order is important here!\n",
        "    \"\"\"\n",
        "\n",
        "    filter_methods = filter_methods if filter_methods is not None else PREPROCESSING_PIPELINE\n",
        "\n",
        "    return reduce(lambda txt, f: f(txt), filter_methods, text)"
      ]
    },
    {
      "cell_type": "markdown",
      "metadata": {
        "id": "Wa63liwvhPE6"
      },
      "source": [
        "Now we apply the defined methods to the claims and evidences to remove unwanted pieces of text. We can see now how this pre-processing has affected some claims and evidences."
      ]
    },
    {
      "cell_type": "code",
      "execution_count": 12,
      "metadata": {
        "colab": {
          "base_uri": "https://localhost:8080/"
        },
        "id": "yjDk84Gw4G2T",
        "outputId": "7f1e65f5-79a0-4d93-a93f-21686bc68ff6"
      },
      "outputs": [
        {
          "name": "stdout",
          "output_type": "stream",
          "text": [
            "Pre-processing text...\n",
            "Claim\n",
            "\n",
            "[Debug] Before :\n",
            "0    Chris Hemsworth appeared in A Perfect Getaway.\n",
            "1                           Roald Dahl is a writer.\n",
            "2                         Roald Dahl is a governor.\n",
            "3       Ireland has relatively low-lying mountains.\n",
            "Name: Claim, dtype: object\n",
            "\n",
            "[Debug] After :\n",
            "0    chris hemsworth appeared perfect getaway\n",
            "1                           roald dahl writer\n",
            "2                         roald dahl governor\n",
            "3       ireland relatively lowlying mountains\n",
            "Name: Claim, dtype: object\n",
            "\n",
            "==================================================\n",
            "\n",
            "Evidence\n",
            "\n",
            "[Debug] Before :\n",
            "0    2\\tHemsworth has also appeared in the science ...\n",
            "1    0\\tRoald Dahl -LRB- -LSB- langpronˈroʊ.əld _ ˈ...\n",
            "2    0\\tRoald Dahl -LRB- -LSB- langpronˈroʊ.əld _ ˈ...\n",
            "3    10\\tThe island 's geography comprises relative...\n",
            "Name: Evidence, dtype: object\n",
            "\n",
            "[Debug] After :\n",
            "0     hemsworth also appeared science fiction actio...\n",
            "1     roald dahl langpronrold dl , ul september nov...\n",
            "2     roald dahl langpronrold dl , ul september nov...\n",
            "3     island geography comprises relatively lowlyin...\n",
            "Name: Evidence, dtype: object\n",
            "\n",
            "Pre-processing completed!\n"
          ]
        }
      ],
      "source": [
        "# Pre-processing\n",
        "\n",
        "print('Pre-processing text...')\n",
        "\n",
        "print(\"Claim\")\n",
        "\n",
        "print()\n",
        "print('[Debug] Before :\\n{}'.format(df_train.Claim[:4]))\n",
        "print()\n",
        "\n",
        "# Replace each sentence with its pre-processed version\n",
        "df_train['Claim'] = df_train['Claim'].apply(lambda txt: text_prepare(txt))\n",
        "\n",
        "print('[Debug] After :\\n{}'.format(df_train.Claim[:4]))\n",
        "print()\n",
        "\n",
        "print(\"==\"*25)\n",
        "print()\n",
        "print(\"Evidence\")\n",
        "\n",
        "print()\n",
        "print('[Debug] Before :\\n{}'.format(df_train.Evidence[:4]))\n",
        "print()\n",
        "\n",
        "# Replace each sentence with its pre-processed version\n",
        "df_train['Evidence'] = df_train['Evidence'].apply(lambda txt: text_prepare(txt))\n",
        "\n",
        "print('[Debug] After :\\n{}'.format(df_train.Evidence[:4]))\n",
        "print()\n",
        "\n",
        "\n",
        "print(\"Pre-processing completed!\")  "
      ]
    },
    {
      "cell_type": "markdown",
      "metadata": {
        "id": "Xzf0hmLvvpVN"
      },
      "source": [
        "Apply the processing functions to all the dataset."
      ]
    },
    {
      "cell_type": "code",
      "execution_count": 13,
      "metadata": {
        "id": "Kln36FrW3pi-"
      },
      "outputs": [],
      "source": [
        "#Text Pre-processing on Test set.\n",
        "df_test['Claim'] = df_test['Claim'].apply(lambda txt: text_prepare(txt))\n",
        "df_test['Evidence'] = df_test['Evidence'].apply(lambda txt: text_prepare(txt))\n",
        "\n",
        "#Text Pre-processing on Validation set.\n",
        "df_val['Claim'] = df_val['Claim'].apply(lambda txt: text_prepare(txt))\n",
        "df_val['Evidence'] = df_val['Evidence'].apply(lambda txt: text_prepare(txt))"
      ]
    },
    {
      "cell_type": "markdown",
      "metadata": {
        "id": "K4oXcx1TGApt"
      },
      "source": [
        "A quick look to the preprocessed `DataFrame`."
      ]
    },
    {
      "cell_type": "code",
      "execution_count": 14,
      "metadata": {
        "colab": {
          "base_uri": "https://localhost:8080/",
          "height": 0
        },
        "id": "ZXuF2_YYB3rc",
        "outputId": "489b178e-de48-4bb9-c8bf-e8bfdab2bffb"
      },
      "outputs": [
        {
          "data": {
            "text/html": [
              "\n",
              "  <div id=\"df-718b9419-904f-4c37-a186-2ddb177cf970\">\n",
              "    <div class=\"colab-df-container\">\n",
              "      <div>\n",
              "<style scoped>\n",
              "    .dataframe tbody tr th:only-of-type {\n",
              "        vertical-align: middle;\n",
              "    }\n",
              "\n",
              "    .dataframe tbody tr th {\n",
              "        vertical-align: top;\n",
              "    }\n",
              "\n",
              "    .dataframe thead th {\n",
              "        text-align: right;\n",
              "    }\n",
              "</style>\n",
              "<table border=\"1\" class=\"dataframe\">\n",
              "  <thead>\n",
              "    <tr style=\"text-align: right;\">\n",
              "      <th></th>\n",
              "      <th>Claim</th>\n",
              "      <th>Evidence</th>\n",
              "      <th>ID</th>\n",
              "      <th>Label</th>\n",
              "    </tr>\n",
              "  </thead>\n",
              "  <tbody>\n",
              "    <tr>\n",
              "      <th>0</th>\n",
              "      <td>anxiety linked physical symptoms</td>\n",
              "      <td>furthermore , anxiety linked physical symptom...</td>\n",
              "      <td>16387</td>\n",
              "      <td>SUPPORTS</td>\n",
              "    </tr>\n",
              "    <tr>\n",
              "      <th>1</th>\n",
              "      <td>firefox application</td>\n",
              "      <td>mozilla firefox simply free opensource web br...</td>\n",
              "      <td>6</td>\n",
              "      <td>SUPPORTS</td>\n",
              "    </tr>\n",
              "    <tr>\n",
              "      <th>2</th>\n",
              "      <td>keeganmichael key played president barack obam...</td>\n",
              "      <td>, key appeared white house correspondents din...</td>\n",
              "      <td>16392</td>\n",
              "      <td>SUPPORTS</td>\n",
              "    </tr>\n",
              "    <tr>\n",
              "      <th>3</th>\n",
              "      <td>google search find stock quotes</td>\n",
              "      <td>include synonyms , weather forecasts time zon...</td>\n",
              "      <td>16394</td>\n",
              "      <td>SUPPORTS</td>\n",
              "    </tr>\n",
              "    <tr>\n",
              "      <th>4</th>\n",
              "      <td>good day die hard directed solely ridley scott</td>\n",
              "      <td>film directed john moore written skip woods ,...</td>\n",
              "      <td>98315</td>\n",
              "      <td>REFUTES</td>\n",
              "    </tr>\n",
              "    <tr>\n",
              "      <th>...</th>\n",
              "      <td>...</td>\n",
              "      <td>...</td>\n",
              "      <td>...</td>\n",
              "      <td>...</td>\n",
              "    </tr>\n",
              "    <tr>\n",
              "      <th>7184</th>\n",
              "      <td>scandal american band</td>\n",
              "      <td>scandal american rock band s fronted patty sm...</td>\n",
              "      <td>16378</td>\n",
              "      <td>SUPPORTS</td>\n",
              "    </tr>\n",
              "    <tr>\n",
              "      <th>7185</th>\n",
              "      <td>henry cavill played superman</td>\n",
              "      <td>cavill gained prominence international fame p...</td>\n",
              "      <td>143046</td>\n",
              "      <td>SUPPORTS</td>\n",
              "    </tr>\n",
              "    <tr>\n",
              "      <th>7186</th>\n",
              "      <td>africa cup nations friendly global soccer exhi...</td>\n",
              "      <td>africa cup nations , officially coupe dafriqu...</td>\n",
              "      <td>16382</td>\n",
              "      <td>REFUTES</td>\n",
              "    </tr>\n",
              "    <tr>\n",
              "      <th>7187</th>\n",
              "      <td>ron dennis owner catering company thats based ...</td>\n",
              "      <td>absolute taste , londonbased catering company</td>\n",
              "      <td>147455</td>\n",
              "      <td>SUPPORTS</td>\n",
              "    </tr>\n",
              "    <tr>\n",
              "      <th>7188</th>\n",
              "      <td>ron dennis owner catering company thats based ...</td>\n",
              "      <td>handed threepage business plan chef formula o...</td>\n",
              "      <td>147455</td>\n",
              "      <td>SUPPORTS</td>\n",
              "    </tr>\n",
              "  </tbody>\n",
              "</table>\n",
              "<p>7189 rows × 4 columns</p>\n",
              "</div>\n",
              "      <button class=\"colab-df-convert\" onclick=\"convertToInteractive('df-718b9419-904f-4c37-a186-2ddb177cf970')\"\n",
              "              title=\"Convert this dataframe to an interactive table.\"\n",
              "              style=\"display:none;\">\n",
              "        \n",
              "  <svg xmlns=\"http://www.w3.org/2000/svg\" height=\"24px\"viewBox=\"0 0 24 24\"\n",
              "       width=\"24px\">\n",
              "    <path d=\"M0 0h24v24H0V0z\" fill=\"none\"/>\n",
              "    <path d=\"M18.56 5.44l.94 2.06.94-2.06 2.06-.94-2.06-.94-.94-2.06-.94 2.06-2.06.94zm-11 1L8.5 8.5l.94-2.06 2.06-.94-2.06-.94L8.5 2.5l-.94 2.06-2.06.94zm10 10l.94 2.06.94-2.06 2.06-.94-2.06-.94-.94-2.06-.94 2.06-2.06.94z\"/><path d=\"M17.41 7.96l-1.37-1.37c-.4-.4-.92-.59-1.43-.59-.52 0-1.04.2-1.43.59L10.3 9.45l-7.72 7.72c-.78.78-.78 2.05 0 2.83L4 21.41c.39.39.9.59 1.41.59.51 0 1.02-.2 1.41-.59l7.78-7.78 2.81-2.81c.8-.78.8-2.07 0-2.86zM5.41 20L4 18.59l7.72-7.72 1.47 1.35L5.41 20z\"/>\n",
              "  </svg>\n",
              "      </button>\n",
              "      \n",
              "  <style>\n",
              "    .colab-df-container {\n",
              "      display:flex;\n",
              "      flex-wrap:wrap;\n",
              "      gap: 12px;\n",
              "    }\n",
              "\n",
              "    .colab-df-convert {\n",
              "      background-color: #E8F0FE;\n",
              "      border: none;\n",
              "      border-radius: 50%;\n",
              "      cursor: pointer;\n",
              "      display: none;\n",
              "      fill: #1967D2;\n",
              "      height: 32px;\n",
              "      padding: 0 0 0 0;\n",
              "      width: 32px;\n",
              "    }\n",
              "\n",
              "    .colab-df-convert:hover {\n",
              "      background-color: #E2EBFA;\n",
              "      box-shadow: 0px 1px 2px rgba(60, 64, 67, 0.3), 0px 1px 3px 1px rgba(60, 64, 67, 0.15);\n",
              "      fill: #174EA6;\n",
              "    }\n",
              "\n",
              "    [theme=dark] .colab-df-convert {\n",
              "      background-color: #3B4455;\n",
              "      fill: #D2E3FC;\n",
              "    }\n",
              "\n",
              "    [theme=dark] .colab-df-convert:hover {\n",
              "      background-color: #434B5C;\n",
              "      box-shadow: 0px 1px 3px 1px rgba(0, 0, 0, 0.15);\n",
              "      filter: drop-shadow(0px 1px 2px rgba(0, 0, 0, 0.3));\n",
              "      fill: #FFFFFF;\n",
              "    }\n",
              "  </style>\n",
              "\n",
              "      <script>\n",
              "        const buttonEl =\n",
              "          document.querySelector('#df-718b9419-904f-4c37-a186-2ddb177cf970 button.colab-df-convert');\n",
              "        buttonEl.style.display =\n",
              "          google.colab.kernel.accessAllowed ? 'block' : 'none';\n",
              "\n",
              "        async function convertToInteractive(key) {\n",
              "          const element = document.querySelector('#df-718b9419-904f-4c37-a186-2ddb177cf970');\n",
              "          const dataTable =\n",
              "            await google.colab.kernel.invokeFunction('convertToInteractive',\n",
              "                                                     [key], {});\n",
              "          if (!dataTable) return;\n",
              "\n",
              "          const docLinkHtml = 'Like what you see? Visit the ' +\n",
              "            '<a target=\"_blank\" href=https://colab.research.google.com/notebooks/data_table.ipynb>data table notebook</a>'\n",
              "            + ' to learn more about interactive tables.';\n",
              "          element.innerHTML = '';\n",
              "          dataTable['output_type'] = 'display_data';\n",
              "          await google.colab.output.renderOutput(dataTable, element);\n",
              "          const docLink = document.createElement('div');\n",
              "          docLink.innerHTML = docLinkHtml;\n",
              "          element.appendChild(docLink);\n",
              "        }\n",
              "      </script>\n",
              "    </div>\n",
              "  </div>\n",
              "  "
            ],
            "text/plain": [
              "                                                  Claim  \\\n",
              "0                      anxiety linked physical symptoms   \n",
              "1                                   firefox application   \n",
              "2     keeganmichael key played president barack obam...   \n",
              "3                       google search find stock quotes   \n",
              "4        good day die hard directed solely ridley scott   \n",
              "...                                                 ...   \n",
              "7184                              scandal american band   \n",
              "7185                       henry cavill played superman   \n",
              "7186  africa cup nations friendly global soccer exhi...   \n",
              "7187  ron dennis owner catering company thats based ...   \n",
              "7188  ron dennis owner catering company thats based ...   \n",
              "\n",
              "                                               Evidence      ID     Label  \n",
              "0      furthermore , anxiety linked physical symptom...   16387  SUPPORTS  \n",
              "1      mozilla firefox simply free opensource web br...       6  SUPPORTS  \n",
              "2      , key appeared white house correspondents din...   16392  SUPPORTS  \n",
              "3      include synonyms , weather forecasts time zon...   16394  SUPPORTS  \n",
              "4      film directed john moore written skip woods ,...   98315   REFUTES  \n",
              "...                                                 ...     ...       ...  \n",
              "7184   scandal american rock band s fronted patty sm...   16378  SUPPORTS  \n",
              "7185   cavill gained prominence international fame p...  143046  SUPPORTS  \n",
              "7186   africa cup nations , officially coupe dafriqu...   16382   REFUTES  \n",
              "7187      absolute taste , londonbased catering company  147455  SUPPORTS  \n",
              "7188   handed threepage business plan chef formula o...  147455  SUPPORTS  \n",
              "\n",
              "[7189 rows x 4 columns]"
            ]
          },
          "execution_count": 14,
          "metadata": {},
          "output_type": "execute_result"
        }
      ],
      "source": [
        "df_test"
      ]
    },
    {
      "cell_type": "markdown",
      "metadata": {
        "id": "fTw3NC1SlJkB"
      },
      "source": [
        "# 3. Dataset Preparation and Conversion\n",
        "\n",
        "In this section we futher proceed on the pipeline by preparing the data. In order to deal in a more efficent way with data let's convert them from `DataFrame` to lists."
      ]
    },
    {
      "cell_type": "code",
      "execution_count": 15,
      "metadata": {
        "id": "uBAkS0iRCDY1"
      },
      "outputs": [],
      "source": [
        "claims_train = list(df_train.Claim.values) \n",
        "evidences_train = list(df_train.Evidence.values)\n",
        "labels_train = list(df_train.Label.values) \n",
        "\n",
        "claims_val = list(df_val.Claim.values) \n",
        "evidences_val = list(df_val.Evidence.values)\n",
        "labels_val = list(df_val.Label.values) \n",
        "\n",
        "claims_test = list(df_test.Claim.values) \n",
        "evidences_test = list(df_test.Evidence.values)\n",
        "labels_test = list(df_test.Label.values) "
      ]
    },
    {
      "cell_type": "markdown",
      "metadata": {
        "id": "M6kr5pRc3zy8"
      },
      "source": [
        "## 3.1 Tokenization\n",
        "\n",
        "We decided to keep one unique vocabulary for both the claims and the evidences using the Tokenizer provided by Keras. Furhtermore the vocabulary is computed incrementally by firstly fitting on the train then to the validation set, finally on the test set."
      ]
    },
    {
      "cell_type": "code",
      "execution_count": 16,
      "metadata": {
        "colab": {
          "base_uri": "https://localhost:8080/"
        },
        "id": "IIoIAywymkh2",
        "outputId": "835371d7-82fa-4f9c-f18d-9eb5d7aecebe"
      },
      "outputs": [
        {
          "name": "stdout",
          "output_type": "stream",
          "text": [
            "[Debug] After fitting the Tokenizer on the claims (training) the vocab size is: 19010\n",
            "[Debug] After fitting the Tokenizer on the evidences (training) the vocab size is: 34564\n",
            "\n",
            "[Debug] After fitting the Tokenizer on the claims (training) the vocab size is: 36270\n",
            "[Debug] After fitting the Tokenizer on the evidences (training) the vocab size is: 36270\n",
            "\n",
            "[Debug] After fitting the Tokenizer on the claims (training) the vocab size is: 38220\n",
            "[Debug] After fitting the Tokenizer on the evidences (training) the vocab size is: 38220\n"
          ]
        }
      ],
      "source": [
        "# Initialize Tokenizer\n",
        "word_tokenizer = Tokenizer()\n",
        "\n",
        "# Fit on Train split, updating the internal vocab\n",
        "word_tokenizer.fit_on_texts(claims_train)\n",
        "word_to_idx_train = word_tokenizer.word_index\n",
        "print(f'[Debug] After fitting the Tokenizer on the claims (training) the vocab size is: {len(word_to_idx_train)}')\n",
        "\n",
        "word_tokenizer.fit_on_texts(evidences_train)\n",
        "word_to_idx_train = word_tokenizer.word_index\n",
        "print(f'[Debug] After fitting the Tokenizer on the evidences (training) the vocab size is: {len(word_to_idx_train)}')\n",
        "\n",
        "# Fit on Validation split, updating the internal vocab\n",
        "word_tokenizer.fit_on_texts(claims_val)\n",
        "word_tokenizer.fit_on_texts(evidences_val)\n",
        "word_to_idx_val = word_tokenizer.word_index\n",
        "\n",
        "# Fit on Test split, updating the internal vocab\n",
        "word_tokenizer.fit_on_texts(claims_test)\n",
        "word_tokenizer.fit_on_texts(evidences_test)\n",
        "word_to_idx_test = word_tokenizer.word_index\n",
        "\n",
        "# After we have updated all the internal vocabularies we encode the claims and the evidences\n",
        "# NOTE: We do this after the fitting in order to have all the indexes coherent\n",
        "# NOTE: we probably don't need these encodings considering that after we have to do the encoding on the pairs\n",
        "claims_train_encoded = word_tokenizer.texts_to_sequences(claims_train)\n",
        "evidences_train_encoded = word_tokenizer.texts_to_sequences(evidences_train)\n",
        "\n",
        "\n",
        "print()\n",
        "\n",
        "claims_val_encoded = word_tokenizer.texts_to_sequences(claims_val)\n",
        "evidences_val_encoded = word_tokenizer.texts_to_sequences(evidences_val)\n",
        "print(f'[Debug] After fitting the Tokenizer on the claims (training) the vocab size is: {len(word_to_idx_val)}')\n",
        "print(f'[Debug] After fitting the Tokenizer on the evidences (training) the vocab size is: {len(word_to_idx_val)}')\n",
        "\n",
        "print()\n",
        "\n",
        "claims_test_encoded = word_tokenizer.texts_to_sequences(claims_test)\n",
        "evidences_test_encoded = word_tokenizer.texts_to_sequences(evidences_test)\n",
        "print(f'[Debug] After fitting the Tokenizer on the claims (training) the vocab size is: {len(word_to_idx_test)}')\n",
        "print(f'[Debug] After fitting the Tokenizer on the evidences (training) the vocab size is: {len(word_to_idx_test)}')\n",
        "\n",
        "word_to_idx = word_to_idx_test\n",
        "idx_to_word = word_tokenizer.index_word\n",
        "word_index = word_tokenizer.word_index"
      ]
    },
    {
      "cell_type": "markdown",
      "metadata": {
        "id": "af1taP3eygzv"
      },
      "source": [
        "Let's visualize the tokenized sentences."
      ]
    },
    {
      "cell_type": "code",
      "execution_count": 17,
      "metadata": {
        "colab": {
          "base_uri": "https://localhost:8080/"
        },
        "id": "bJisK0FuGFk7",
        "outputId": "b0e9ef38-bfba-403b-cd6d-bc52f7cf1870"
      },
      "outputs": [
        {
          "name": "stdout",
          "output_type": "stream",
          "text": [
            "Claim\n",
            "[Debug] Before tokenization:\n",
            "['chris hemsworth appeared perfect getaway', 'roald dahl writer', 'roald dahl governor', 'ireland relatively lowlying mountains', 'ireland not relatively lowlying mountains']\n",
            "\n",
            "Evidence\n",
            "[Debug] After tokenization:\n",
            "[[247, 2148, 69, 1098, 5530], [5075, 4267, 82], [5075, 4267, 744], [540, 4268, 16984, 1192], [540, 34, 4268, 16984, 1192]]\n",
            "\n"
          ]
        }
      ],
      "source": [
        "print(\"Claim\")\n",
        "print('[Debug] Before tokenization:\\n{}'.format(claims_train[:5]))\n",
        "print()\n",
        "\n",
        "print(\"Evidence\")\n",
        "print('[Debug] After tokenization:\\n{}'.format(claims_train_encoded[:5]))\n",
        "print()"
      ]
    },
    {
      "cell_type": "code",
      "execution_count": 18,
      "metadata": {
        "colab": {
          "base_uri": "https://localhost:8080/"
        },
        "id": "ewHYpmedRFd9",
        "outputId": "d40fa971-6da5-4d60-e6c5-13dfffe1c27e"
      },
      "outputs": [
        {
          "name": "stdout",
          "output_type": "stream",
          "text": [
            "Terms in the training set: 34564\n",
            "Terms in the train + validation set: 36270\n",
            "Terms in the train + validation + test set: 38220\n"
          ]
        }
      ],
      "source": [
        "# Like said before this is made by both the claims and the evidences\n",
        "print(f'Terms in the training set: {len(word_to_idx_train)}')\n",
        "print(f'Terms in the train + validation set: {len(word_to_idx_val)}')\n",
        "print(f'Terms in the train + validation + test set: {len(word_to_idx_test)}')"
      ]
    },
    {
      "cell_type": "markdown",
      "metadata": {
        "id": "oEZ18iRfyH_K"
      },
      "source": [
        "## 3.2 Pair encoding\n",
        "\n",
        "Then we build the pairs `(evidence, claim, label)` using the already fit tokenizer to convert the text sequences into IDs sequences.\n",
        "\n",
        "We will encode the pairs in the following form:\n",
        "- $<\\text{claim}, \\text{evidence}, supports>$ into $<tokenize(\\text{claim}), tokenize(\\text{evidence}), 0>$\n",
        "- $<\\text{claim}, \\text{evidence}, refutes>$ into $<tokenize(\\text{claim}), tokenize(\\text{evidence}), 1>$."
      ]
    },
    {
      "cell_type": "code",
      "execution_count": 19,
      "metadata": {
        "id": "JqVyEXI1yVsU"
      },
      "outputs": [],
      "source": [
        "def create_pairs(claims, evidences, labels):\n",
        "    '''\n",
        "    Builds a pair encoding (claim, evidence, label). \n",
        "    '''\n",
        "    pairs = []\n",
        "\n",
        "    for claim, evidence, label in zip(claims, evidences, labels):\n",
        "        pairs.append((claim, evidence, label))\n",
        "    return pairs"
      ]
    },
    {
      "cell_type": "code",
      "execution_count": 20,
      "metadata": {
        "colab": {
          "base_uri": "https://localhost:8080/"
        },
        "id": "H4ag0c0Z0zNV",
        "outputId": "1c6fafd6-76eb-4128-b02f-bf8dd7ea769d"
      },
      "outputs": [
        {
          "name": "stdout",
          "output_type": "stream",
          "text": [
            "\n",
            "Encoded pairs generated (Claim, Evidence, Support): \n",
            "[([247, 2148, 69, 1098, 5530], [2148, 15, 69, 96, 67, 136, 1, 119, 1111, 122, 381, 1098, 5530, 151, 36, 9847, 985, 12706, 1283, 427, 3060, 95, 404, 743, 392, 373, 21, 5000], 0), ([5075, 4267, 82], [5075, 4267, 19737, 8185, 19738, 64, 78, 45, 512, 426, 114, 82, 947, 139, 2371, 1039], 0), ([5075, 4267, 744], [5075, 4267, 19737, 8185, 19738, 64, 78, 45, 512, 426, 114, 82, 947, 139, 2371, 1039], 1), ([540, 4268, 16984, 1192], [184, 2680, 3210, 4268, 16984, 1192, 3919, 246, 3877, 115, 15622, 2846, 7302, 6668, 540], 0), ([540, 34, 4268, 16984, 1192], [184, 2680, 3210, 4268, 16984, 1192, 3919, 246, 3877, 115, 15622, 2846, 7302, 6668, 540], 1)]\n"
          ]
        }
      ],
      "source": [
        "# Generate the encoded pairs for the splits \n",
        "train_pairs = create_pairs(claims_train_encoded, evidences_train_encoded, labels_train)\n",
        "train_pairs = [(pair[0], pair[1], 0) if pair[2] == 'SUPPORTS' else (pair[0], pair[1], 1) for pair in train_pairs]\n",
        "\n",
        "val_pairs = create_pairs(claims_val_encoded, evidences_val_encoded, labels_val)\n",
        "val_pairs = [(pair[0], pair[1], 0) if pair[2] == 'SUPPORTS' else (pair[0], pair[1], 1) for pair in val_pairs]\n",
        "\n",
        "test_pairs = create_pairs(claims_test_encoded, evidences_test_encoded, labels_test)\n",
        "test_pairs = [(pair[0], pair[1], 0) if pair[2] == 'SUPPORTS' else (pair[0], pair[1], 1) for pair in test_pairs]\n",
        "\n",
        "print(f'\\nEncoded pairs generated (Claim, Evidence, Support): \\n{train_pairs[:5]}')"
      ]
    },
    {
      "cell_type": "markdown",
      "metadata": {
        "id": "sDNsk2p3HFy4"
      },
      "source": [
        "## 3.3 OOV words\n",
        "\n",
        "We have a vocabulary now so we can check the Out-of-Vocabulary (OOV) words:"
      ]
    },
    {
      "cell_type": "code",
      "execution_count": 21,
      "metadata": {
        "id": "jeSsY4HvG1Cc"
      },
      "outputs": [],
      "source": [
        "def check_OOV_terms(embedding_model: gensim.models.keyedvectors.KeyedVectors,\n",
        "                    word_listing):\n",
        "    \"\"\"\n",
        "    Checks differences between pre-trained embedding model vocabulary\n",
        "    and dataset specific vocabulary in order to highlight out-of-vocabulary terms.\n",
        "\n",
        "    :param embedding_model: pre-trained word embedding model (gensim wrapper)\n",
        "    :param word_listing: dataset specific vocabulary (list)\n",
        "\n",
        "    :return\n",
        "        - set of OOV terms\n",
        "    \"\"\"\n",
        "\n",
        "    embedding_vocabulary = set(embedding_model.vocab.keys())\n",
        "    oov = set(word_listing).difference(embedding_vocabulary)\n",
        "    return oov"
      ]
    },
    {
      "cell_type": "markdown",
      "metadata": {
        "id": "Z0L__f87GcdV"
      },
      "source": [
        "... and we can count how much they are with respect to the words present in the vocabulary."
      ]
    },
    {
      "cell_type": "code",
      "execution_count": 22,
      "metadata": {
        "colab": {
          "base_uri": "https://localhost:8080/"
        },
        "id": "8EWuFdbhPGdy",
        "outputId": "73de8048-e499-4d4c-f943-f2d5ec093c7e"
      },
      "outputs": [
        {
          "name": "stdout",
          "output_type": "stream",
          "text": [
            "Total OOV terms (training + validation + test): 6589 (0.17%)\n"
          ]
        }
      ],
      "source": [
        "word_listing = list(word_tokenizer.word_index.keys())\n",
        "oov_terms = check_OOV_terms(embedding_model, word_listing)\n",
        "\n",
        "print(\"Total OOV terms (training + validation + test): {0} ({1:.2f}%)\".format(len(oov_terms), float(len(oov_terms)) / len(set(word_listing))))"
      ]
    },
    {
      "cell_type": "code",
      "execution_count": 23,
      "metadata": {
        "colab": {
          "base_uri": "https://localhost:8080/"
        },
        "id": "83PUaQ9UQ97z",
        "outputId": "960e28e9-2e78-4224-84bd-9e598ec3785f"
      },
      "outputs": [
        {
          "name": "stdout",
          "output_type": "stream",
          "text": [
            "Total training OOV terms: 5616 (0.16%)\n",
            "Total validation OOV terms: 456 (0.01%)\n",
            "Total test OOV terms: 517 (0.01%)\n"
          ]
        }
      ],
      "source": [
        "word_listing_train = list(word_to_idx_train.keys())\n",
        "oov_terms_train = check_OOV_terms(embedding_model, word_listing_train)\n",
        "\n",
        "print(\"Total training OOV terms: {0} ({1:.2f}%)\".format(len(oov_terms_train), float(len(oov_terms_train)) / len(set(word_listing_train))))\n",
        "\n",
        "word_listing_val = list(word_to_idx_val.keys())                             # extract all the terms present in the train and val set\n",
        "oov_terms_val = check_OOV_terms(embedding_model, word_listing_val)          # oov words from both the previous sets\n",
        "oov_terms_val = oov_terms_val - oov_terms_train                             # remove the terms already considered\n",
        "\n",
        "print(\"Total validation OOV terms: {0} ({1:.2f}%)\".format(len(oov_terms_val), float(len(oov_terms_val)) / len(set(word_listing_val))))\n",
        "\n",
        "word_listing_test = list(word_to_idx_test.keys())\n",
        "oov_terms_test = check_OOV_terms(embedding_model, word_listing_test)\n",
        "oov_terms_test = oov_terms_test - oov_terms_val - oov_terms_train\n",
        "\n",
        "print(\"Total test OOV terms: {0} ({1:.2f}%)\".format(len(oov_terms_test), float(len(oov_terms_test)) / len(set(word_listing_test))))\n",
        "\n",
        "assert oov_terms_train.intersection(oov_terms_val, oov_terms_test) == set()"
      ]
    },
    {
      "cell_type": "markdown",
      "metadata": {
        "id": "H-hAQjvs2frH"
      },
      "source": [
        "We can see that the total number of OOV words is under `0.2%`, which is indeed a small number overall. This means that we can further build the embedding matrix by assigning to the OOV words a random vector uniformly sampled."
      ]
    },
    {
      "cell_type": "markdown",
      "metadata": {
        "id": "KSs9LHUEZvz6"
      },
      "source": [
        "## 3.4 Matrix building \n",
        "\n",
        "A fundamental step is to build a matrix $M_{i} \\in \\mathbb{R}^{V\\times d}$, where at each word, indexed at row $i$, is associated an embedding vector of size $d=300$. As mentioned earlier, if a word $i$ is not in GloVe then we assign it a r.andom vector $v \\in \\mathbb{R}^d$ uniformly sampled in the range $[-\\frac{1}{10}, \\frac{1}{10}]$."
      ]
    },
    {
      "cell_type": "code",
      "execution_count": 24,
      "metadata": {
        "id": "GspkqqANJS5w"
      },
      "outputs": [],
      "source": [
        "def build_embedding_matrix(embedding_model: gensim.models.keyedvectors.KeyedVectors,\n",
        "                           embedding_dimension: int,\n",
        "                           word_to_idx,\n",
        "                           vocab_size: int) -> np.ndarray:\n",
        "    \"\"\"\n",
        "    Builds the embedding matrix of a specific dataset given a pre-trained word embedding model\n",
        "\n",
        "    :param embedding_model: pre-trained word embedding model (gensim wrapper)\n",
        "    :param word_to_idx: vocabulary map (word -> index) (dict)\n",
        "    :param vocab_size: size of the vocabulary\n",
        "    :param oov_terms: list of OOV terms (list)\n",
        "\n",
        "    :return\n",
        "        - embedding matrix that assigns a high dimensional vector to each word in the dataset specific vocabulary (shape |V| x d)\n",
        "    \"\"\"\n",
        "\n",
        "    embedding_matrix = np.zeros((vocab_size, embedding_dimension), dtype=np.float32)\n",
        "    oov_count = 0\n",
        "\n",
        "    # For each word which is not present in the vocabulary we assign a random vector, otherwise we take the GloVe embedding\n",
        "    for word, idx in tqdm(word_to_idx.items()):\n",
        "        try:\n",
        "            embedding_vector = embedding_model[word]\n",
        "        except (KeyError, TypeError):\n",
        "            oov_count += 1\n",
        "            # embedding_vector = np.random.uniform(low=-0.05, high=0.05, size=embedding_dimension)\n",
        "            embedding_vector = np.random.uniform(low=-0.1, high=0.1, size=embedding_dimension)\n",
        "\n",
        "        embedding_matrix[idx] = embedding_vector\n",
        "    \n",
        "    print(f'\\n[Debug] {oov_count} OOV words found!')\n",
        "    return embedding_matrix"
      ]
    },
    {
      "cell_type": "markdown",
      "metadata": {
        "id": "YX7MXz50bCRD"
      },
      "source": [
        "We then build the matrix and add the padding to the vocabulary, since it will be also considered by the network. Let's visualize the shapes if all seems right."
      ]
    },
    {
      "cell_type": "code",
      "execution_count": 25,
      "metadata": {
        "colab": {
          "base_uri": "https://localhost:8080/"
        },
        "id": "jkE1FsTJZ4U3",
        "outputId": "c60667b5-9521-4a04-8ceb-6e3bff960c65"
      },
      "outputs": [
        {
          "name": "stderr",
          "output_type": "stream",
          "text": [
            "100%|██████████| 38221/38221 [00:00<00:00, 81407.04it/s]"
          ]
        },
        {
          "name": "stdout",
          "output_type": "stream",
          "text": [
            "\n",
            "[Debug] 6590 OOV words found!\n",
            "[Debug] Embedding matrix shape (pad value included): (38221, 300)\n"
          ]
        },
        {
          "name": "stderr",
          "output_type": "stream",
          "text": [
            "\n"
          ]
        }
      ],
      "source": [
        "# Add to vocabulary a special entry for the padding   \n",
        "word_tokenizer.word_index['__PAD__'] = 0\n",
        "word_tokenizer.index_word[0] = '__PAD__'\n",
        "\n",
        "embedding_matrix = build_embedding_matrix(embedding_model=embedding_model,\n",
        "                                          word_to_idx=word_to_idx,\n",
        "                                          vocab_size=len(word_tokenizer.word_index),\n",
        "                                          embedding_dimension=embedding_dimension)\n",
        "\n",
        "print(f'[Debug] Embedding matrix shape (pad value included): {embedding_matrix.shape}') "
      ]
    },
    {
      "cell_type": "markdown",
      "metadata": {
        "id": "mnX4vJddGqtf"
      },
      "source": [
        "## 3.5 Padding\n",
        "\n",
        "First we make an analysis of the indivual lenght of the evidences and the claims present in the dataset.\n"
      ]
    },
    {
      "cell_type": "code",
      "execution_count": 26,
      "metadata": {
        "colab": {
          "base_uri": "https://localhost:8080/"
        },
        "id": "s_9_VvmGIv0k",
        "outputId": "5c66771f-dbca-4550-99c8-c7cae9fa5a9f"
      },
      "outputs": [
        {
          "name": "stdout",
          "output_type": "stream",
          "text": [
            "Lenght of longest sentence in the Train set of claim: 51\n",
            "Mean length in for sentences in the Train set of claim: 5.141596845736816\n",
            "\n",
            "Lenght of longest sentence in the Train set of evidence: 89\n",
            "Mean length in for sentences in the Train set of evidence: 16.109076720880566\n",
            "\n"
          ]
        }
      ],
      "source": [
        "claims_train_encoded = [pair[0] for pair in train_pairs]\n",
        "evidences_train_encoded = [pair[1] for pair in train_pairs]\n",
        "\n",
        "claims_val_encoded = [pair[0] for pair in val_pairs]\n",
        "evidences_val_encoded = [pair[1] for pair in val_pairs]\n",
        "\n",
        "claims_test_encoded = [pair[0] for pair in test_pairs]\n",
        "evidences_test_encoded = [pair[1] for pair in test_pairs]\n",
        "\n",
        "lenght_train_claim = [len(claims) for claims in claims_train_encoded]\n",
        "print(\"Lenght of longest sentence in the Train set of claim: {}\".format(np.max(lenght_train_claim)))\n",
        "print(\"Mean length in for sentences in the Train set of claim: {}\\n\".format(np.mean(lenght_train_claim)))\n",
        "\n",
        "lenght_train_evidence = [len(evd) for evd in evidences_train_encoded]\n",
        "print(\"Lenght of longest sentence in the Train set of evidence: {}\".format(np.max(lenght_train_evidence)))\n",
        "print(\"Mean length in for sentences in the Train set of evidence: {}\\n\".format(np.mean(lenght_train_evidence)))"
      ]
    },
    {
      "cell_type": "code",
      "execution_count": 27,
      "metadata": {
        "colab": {
          "base_uri": "https://localhost:8080/"
        },
        "id": "2hjyiDbe6qQ4",
        "outputId": "5ac23f23-36cf-4f6f-8896-6728044c31e6"
      },
      "outputs": [
        {
          "name": "stdout",
          "output_type": "stream",
          "text": [
            "Lenght of longest sentence in the Val set of claim: 14\n",
            "Mean length in for sentences in the Val set of claim: 5.031681786461968\n",
            "\n",
            "Lenght of longest sentence in the Val set of evidence: 71\n",
            "Mean length in for sentences in the Val set of evidence: 14.673831123517097\n",
            "\n"
          ]
        }
      ],
      "source": [
        "lenght_val_claim = [len(claims) for claims in claims_val_encoded]\n",
        "print(\"Lenght of longest sentence in the Val set of claim: {}\".format(np.max(lenght_val_claim)))\n",
        "print(\"Mean length in for sentences in the Val set of claim: {}\\n\".format(np.mean(lenght_val_claim)))\n",
        "\n",
        "lenght_val_evidence = [len(evd) for evd in evidences_val_encoded]\n",
        "print(\"Lenght of longest sentence in the Val set of evidence: {}\".format(np.max(lenght_val_evidence)))\n",
        "print(\"Mean length in for sentences in the Val set of evidence: {}\\n\".format(np.mean(lenght_val_evidence)))"
      ]
    },
    {
      "cell_type": "code",
      "execution_count": 28,
      "metadata": {
        "colab": {
          "base_uri": "https://localhost:8080/"
        },
        "id": "tR3E0xdrAG9J",
        "outputId": "cd7b46f9-7051-4617-c1ef-b587cd404509"
      },
      "outputs": [
        {
          "name": "stdout",
          "output_type": "stream",
          "text": [
            "Lenght of longest sentence in the Test set of claim: 16\n",
            "Mean length in for sentences in the Test set of claim: 5.232577549033246\n",
            "\n",
            "Lenght of longest sentence in the Test set of evidence: 50\n",
            "Mean length in for sentences in the Test set of evidence: 14.665461121157323\n",
            "\n"
          ]
        }
      ],
      "source": [
        "lenght_test_claim = [len(claims) for claims in claims_test_encoded]\n",
        "print(\"Lenght of longest sentence in the Test set of claim: {}\".format(np.max(lenght_test_claim)))\n",
        "print(\"Mean length in for sentences in the Test set of claim: {}\\n\".format(np.mean(lenght_test_claim)))\n",
        "\n",
        "lenght_test_evidence = [len(evd) for evd in evidences_test_encoded]\n",
        "print(\"Lenght of longest sentence in the Test set of evidence: {}\".format(np.max(lenght_test_evidence)))\n",
        "print(\"Mean length in for sentences in the Test set of evidence: {}\\n\".format(np.mean(lenght_test_evidence)))"
      ]
    },
    {
      "cell_type": "code",
      "execution_count": 29,
      "metadata": {
        "colab": {
          "base_uri": "https://localhost:8080/",
          "height": 0
        },
        "id": "UC15Z-LZAqmK",
        "outputId": "83ff5f0c-887c-40a2-b159-fd290e9a59bf"
      },
      "outputs": [
        {
          "name": "stderr",
          "output_type": "stream",
          "text": [
            "/usr/local/lib/python3.7/dist-packages/seaborn/_decorators.py:43: FutureWarning: Pass the following variable as a keyword arg: x. From version 0.12, the only valid positional argument will be `data`, and passing other arguments without an explicit keyword will result in an error or misinterpretation.\n",
            "  FutureWarning\n"
          ]
        },
        {
          "data": {
            "image/png": "[encoded data removed]",
            "text/plain": [
              "<Figure size 432x288 with 1 Axes>"
            ]
          },
          "metadata": {
            "needs_background": "light"
          },
          "output_type": "display_data"
        }
      ],
      "source": [
        "length_claims = lenght_train_claim + lenght_val_claim + lenght_test_claim\n",
        "\n",
        "sns.boxplot(length_claims)\n",
        "plt.show()"
      ]
    },
    {
      "cell_type": "code",
      "execution_count": 30,
      "metadata": {
        "colab": {
          "base_uri": "https://localhost:8080/",
          "height": 0
        },
        "id": "X72bVGcsBDRT",
        "outputId": "c6bcf409-4561-4c95-f5e0-dde39b349ced"
      },
      "outputs": [
        {
          "name": "stderr",
          "output_type": "stream",
          "text": [
            "/usr/local/lib/python3.7/dist-packages/seaborn/_decorators.py:43: FutureWarning: Pass the following variable as a keyword arg: x. From version 0.12, the only valid positional argument will be `data`, and passing other arguments without an explicit keyword will result in an error or misinterpretation.\n",
            "  FutureWarning\n"
          ]
        },
        {
          "data": {
            "image/png": "[encoded data removed]",
            "text/plain": [
              "<Figure size 432x288 with 1 Axes>"
            ]
          },
          "metadata": {
            "needs_background": "light"
          },
          "output_type": "display_data"
        }
      ],
      "source": [
        "length_evidence = lenght_train_evidence + lenght_val_evidence + lenght_test_evidence\n",
        "\n",
        "sns.boxplot(length_evidence)\n",
        "plt.show()"
      ]
    },
    {
      "cell_type": "markdown",
      "metadata": {
        "id": "eeIjWVFwG2Am"
      },
      "source": [
        "Then we extract the maximum values for every subset of data and find between them the maximum value for the padding. We decide to discard the sentences which have length in the `0.0003` percentile."
      ]
    },
    {
      "cell_type": "code",
      "execution_count": 31,
      "metadata": {
        "colab": {
          "base_uri": "https://localhost:8080/"
        },
        "id": "BvvNCGO2aGPL",
        "outputId": "127c3539-f061-4cbe-95ec-ec0f135e5644"
      },
      "outputs": [
        {
          "name": "stdout",
          "output_type": "stream",
          "text": [
            "Training Set:\n",
            "Mean length: 5.14\n",
            "Max length: 51\n",
            "Number of sentences with length greater than 26: 36\n"
          ]
        }
      ],
      "source": [
        "max_length_claim = int(np.quantile(length_claims, 0.9997))\n",
        "\n",
        "length = []\n",
        "for idx, seq in enumerate(claims_train_encoded):\n",
        "  length.append(len(seq))\n",
        "\n",
        "print('Training Set:')\n",
        "print(f'Mean length: {np.mean(length):.2f}')\n",
        "print(f'Max length: {np.max(length)}')\n",
        "print(f'Number of sentences with length greater than {max_length_claim}: {np.sum([s > max_length_claim for s in length])}')"
      ]
    },
    {
      "cell_type": "code",
      "execution_count": 32,
      "metadata": {
        "colab": {
          "base_uri": "https://localhost:8080/"
        },
        "id": "zaiicruHdKhM",
        "outputId": "e33ee5a7-9327-4a5a-8210-729a55266c52"
      },
      "outputs": [
        {
          "name": "stdout",
          "output_type": "stream",
          "text": [
            "Mean length: 16.11\n",
            "Max length: 89\n",
            "Number of sentences with length greater than 83: 40\n"
          ]
        }
      ],
      "source": [
        "max_length_evidence = int(np.quantile(length_evidence, 0.9997))\n",
        "\n",
        "length = []\n",
        "for idx, seq in enumerate(evidences_train_encoded):\n",
        "  length.append(len(seq))\n",
        "\n",
        "print(f'Mean length: {np.mean(length):.2f}')\n",
        "print(f'Max length: {np.max(length)}')\n",
        "print(f'Number of sentences with length greater than {max_length_evidence}: {np.sum([s > max_length_evidence for s in length])}')"
      ]
    },
    {
      "cell_type": "code",
      "execution_count": 33,
      "metadata": {
        "colab": {
          "base_uri": "https://localhost:8080/"
        },
        "id": "ceoHtuvUhKM2",
        "outputId": "c872105b-6127-4d91-9605-2e958bdd6662"
      },
      "outputs": [
        {
          "name": "stdout",
          "output_type": "stream",
          "text": [
            "X_train claim: (121740, 89), Y_train evidence: (121740, 89)\n",
            "X_val claim: (7165, 89), Y_val evidence: (7165, 89)\n",
            "X_test claim: (7189, 89), Y_test evidence: (7189, 89)\n"
          ]
        }
      ],
      "source": [
        "#Padding \"pre\" or \"post\"\n",
        "max_length = 89\n",
        "pad = \"post\"\n",
        "\n",
        "# Train\n",
        "X_train_claim = pad_sequences(claims_train_encoded, maxlen=max_length, padding=pad)\n",
        "X_train_evidence = pad_sequences(evidences_train_encoded, maxlen=max_length, padding=pad)\n",
        "\n",
        "# Validation\n",
        "X_val_claim = pad_sequences(claims_val_encoded, maxlen=max_length, padding=pad) \n",
        "X_val_evidence = pad_sequences(evidences_val_encoded, maxlen=max_length, padding=pad)\n",
        "\n",
        "# Test\n",
        "X_test_claim = pad_sequences(claims_test_encoded, maxlen=max_length, padding=pad)\n",
        "X_test_evidence = pad_sequences(evidences_test_encoded, maxlen=max_length, padding=pad)\n",
        "\n",
        "\n",
        "print(f'X_train claim: {X_train_claim.shape}, Y_train evidence: {X_train_evidence.shape}')\n",
        "print(f'X_val claim: {X_val_claim.shape}, Y_val evidence: {X_val_evidence.shape}')\n",
        "print(f'X_test claim: {X_test_claim.shape}, Y_test evidence: {X_test_evidence.shape}')"
      ]
    },
    {
      "cell_type": "markdown",
      "metadata": {
        "id": "YUKQTqviaiZR"
      },
      "source": [
        "## 3.6 Categorical\n",
        "\n",
        "We extract the labels from the data, and one-hot encode them. Then we have completed the data pipeline and we are ready to provide some model definition."
      ]
    },
    {
      "cell_type": "code",
      "execution_count": 34,
      "metadata": {
        "colab": {
          "base_uri": "https://localhost:8080/"
        },
        "id": "xt_QRBGcate1",
        "outputId": "5110e522-faea-4865-a7f7-813e926b12b8"
      },
      "outputs": [
        {
          "name": "stdout",
          "output_type": "stream",
          "text": [
            "Y_train: (121740, 2)\n",
            "Y_val: (7165, 2)\n",
            "Y_test: (7189, 2)\n"
          ]
        }
      ],
      "source": [
        "labels_train_encoded = [pair[2] for pair in train_pairs]\n",
        "labels_val_encoded = [pair[2] for pair in val_pairs]\n",
        "labels_test_encoded = [pair[2] for pair in test_pairs]\n",
        "\n",
        "Y_train = to_categorical(labels_train_encoded)\n",
        "Y_val = to_categorical(labels_val_encoded)\n",
        "Y_test = to_categorical(labels_test_encoded)\n",
        "\n",
        "print(f'Y_train: {Y_train.shape}')\n",
        "print(f'Y_val: {Y_val.shape}')\n",
        "print(f'Y_test: {Y_test.shape}')"
      ]
    },
    {
      "cell_type": "markdown",
      "metadata": {
        "id": "WWvBz3wWlMlh"
      },
      "source": [
        "# 4. Model Definition"
      ]
    },
    {
      "cell_type": "markdown",
      "metadata": {
        "id": "B6wjyEvszcNB"
      },
      "source": [
        "To ease the organization we define some dictionaries that contain the configurations and the compilation info. The data contained into the configuration dictionary could be also used in the hyperparameter tuning."
      ]
    },
    {
      "cell_type": "code",
      "execution_count": 35,
      "metadata": {
        "id": "NildOxTJfqEq"
      },
      "outputs": [],
      "source": [
        "config_info = {\n",
        "    'enc_units': 300,\n",
        "    'classification_units': 128,\n",
        "    # 'merge_mode': \"concat\",\n",
        "    'merge_mode': \"sum\",\n",
        "    #'merge_mode': \"average\",\n",
        "    'cosine_similarity': False,\n",
        "    'dropout_rate': .3,\n",
        "    'regularizer': 1e-2,\n",
        "}\n",
        "\n",
        "compile_info = {\n",
        "    'loss': keras.losses.BinaryCrossentropy(from_logits=False),\n",
        "    'optimizer': keras.optimizers.Adam(learning_rate=1e-3),\n",
        "    'metrics': [keras.metrics.BinaryAccuracy(name='accuracy'), tfa.metrics.F1Score(num_classes=2, threshold=0.5)]    \n",
        "}"
      ]
    },
    {
      "cell_type": "markdown",
      "metadata": {
        "id": "NZtzbklDhNiM"
      },
      "source": [
        "## 4.1 Model 1: RNN taking last state\n",
        "\n",
        "First of all we create the model by exploiting the functional API from Keras, that is we define a building function for the first model. We will create a different building method in order to generate all the models. To get more information on the architecture please read the report. \n",
        "\n"
      ]
    },
    {
      "cell_type": "code",
      "execution_count": 36,
      "metadata": {
        "id": "6GV55nUXaHxa"
      },
      "outputs": [],
      "source": [
        "def build_model_1(\n",
        "    embedding_matrix,\n",
        "    max_pad_len,\n",
        "    config_info: Dict,\n",
        "    compile_info: Dict):\n",
        "  \"\"\"\n",
        "  Build the model 1. See the report for more information\n",
        "\n",
        "  Args:\n",
        "    embedding_matrix : a pre-computed embedding matrix.\n",
        "    max_pad_len: the maximum length of the sequences.\n",
        "    config_info: a dictionary containing the info related to the model configuration\n",
        "    compile_info: a dictionary containing the info related to the compiling\n",
        "\n",
        "  Returns:\n",
        "    model: a keras model built on the configuration given\n",
        "  \"\"\"\n",
        "\n",
        "  assert config_info[\"merge_mode\"] in [\"concat\", \"sum\", \"average\"]\n",
        "\n",
        "  # Input layers\n",
        "  claim_input = keras.Input(shape=(max_pad_len, ), name='claim')\n",
        "  evidence_input = keras.Input(shape=(max_pad_len, ), name='evidence')\n",
        "\n",
        "  # Embedding layers\n",
        "  claim_embedding = Embedding(\n",
        "      input_dim=embedding_matrix.shape[0],\n",
        "      output_dim=embedding_matrix.shape[1],\n",
        "      embeddings_initializer = tf.keras.initializers.Constant(embedding_matrix),\n",
        "      trainable = False,\n",
        "      mask_zero = False,\n",
        "      name='claim_embedding'\n",
        "  )(claim_input)\n",
        "\n",
        "  evidence_embedding = Embedding(\n",
        "      input_dim=embedding_matrix.shape[0],\n",
        "      output_dim=embedding_matrix.shape[1],\n",
        "      embeddings_initializer = tf.keras.initializers.Constant(embedding_matrix),\n",
        "      trainable = False,\n",
        "      mask_zero = False,\n",
        "      name='evidence_embedding'\n",
        "  )(evidence_input)\n",
        "\n",
        "  # Encoding layers: to produce the Sentence Embeddings\n",
        "  claim_encoding = Bidirectional(LSTM(units=config_info['enc_units'],\n",
        "                                      return_sequences=False,\n",
        "                                      kernel_regularizer=tf.keras.regularizers.l2(config_info['regularizer']),\n",
        "                                      dropout=config_info['dropout_rate'],\n",
        "                                      name='claim_encoding'))(claim_embedding)\n",
        "  \n",
        "  evidence_encoding = Bidirectional(LSTM(units=config_info['enc_units'],\n",
        "                          return_sequences=False,\n",
        "                          kernel_regularizer=tf.keras.regularizers.l2(config_info['regularizer']),\n",
        "                          dropout=config_info['dropout_rate'],\n",
        "                          name='evidence_encoding'))(evidence_embedding)\n",
        "\n",
        "  # Merge layer\n",
        "  if(config_info['merge_mode'] == 'average'):\n",
        "    merged = tf.keras.layers.Average()([claim_encoding, evidence_encoding])\n",
        "  elif(config_info['merge_mode'] == 'sum'):\n",
        "    merged = tf.keras.layers.Add()([claim_encoding, evidence_encoding])\n",
        "  elif(config_info['merge_mode'] == 'concat'):\n",
        "    merged = tf.keras.layers.Concatenate(axis=1)([claim_encoding, evidence_encoding])\n",
        "\n",
        "  if(config_info['cosine_similarity'] == True):\n",
        "    cosine_similarity = keras.layers.Dot(axes=1, normalize=True, name='cosine_similarity')([claim_encoding, evidence_encoding])\n",
        "    merged = Concatenate(axis=1)([merged, cosine_similarity])\n",
        "\n",
        "  fc1 = Dense(units=config_info['classification_units'], \n",
        "              activation='leaky_relu', \n",
        "              kernel_regularizer=tf.keras.regularizers.l2(config_info['regularizer']),\n",
        "              name='FC1')(merged)\n",
        "\n",
        "  # Dropout layer\n",
        "  fc1 = Dropout(config_info['dropout_rate'])(fc1)\n",
        "\n",
        "  fc2 = Dense(units=config_info['classification_units']*2, \n",
        "              activation='leaky_relu', \n",
        "              kernel_regularizer=tf.keras.regularizers.l2(config_info['regularizer']),\n",
        "              name='FC2')(fc1)\n",
        "\n",
        "  # Dropout layer\n",
        "  classification_input = Dropout(config_info['dropout_rate'])(fc2)\n",
        "\n",
        "  # Classification layers\n",
        "  output = Dense(units=2, \n",
        "                 activation='softmax',\n",
        "                 kernel_regularizer=tf.keras.regularizers.l2(config_info['regularizer']),\n",
        "                 name='output')(classification_input)                \n",
        "\n",
        "  model = Model(inputs=[claim_input, evidence_input], outputs=output, name='RNN_last_state')\n",
        "  model.compile(**compile_info)\n",
        "  return model"
      ]
    },
    {
      "cell_type": "markdown",
      "metadata": {
        "id": "w0egtL9GzrM_"
      },
      "source": [
        "To build the model simply call the `build_model_1()` method."
      ]
    },
    {
      "cell_type": "code",
      "execution_count": 37,
      "metadata": {
        "id": "IA_zdKqyxFJY"
      },
      "outputs": [],
      "source": [
        "model_1 = build_model_1(embedding_matrix, max_length, config_info, compile_info)"
      ]
    },
    {
      "cell_type": "markdown",
      "metadata": {
        "id": "m-evzxOgz1X1"
      },
      "source": [
        "Let's visualize the shapes to see if all the shapes are as expected."
      ]
    },
    {
      "cell_type": "code",
      "execution_count": 38,
      "metadata": {
        "colab": {
          "base_uri": "https://localhost:8080/"
        },
        "id": "XLFTx-7exk7Q",
        "outputId": "1174f2a5-f925-4c35-e187-77f27e6f8532"
      },
      "outputs": [
        {
          "name": "stdout",
          "output_type": "stream",
          "text": [
            "Model: \"RNN_last_state\"\n",
            "__________________________________________________________________________________________________\n",
            " Layer (type)                   Output Shape         Param #     Connected to                     \n",
            "==================================================================================================\n",
            " claim (InputLayer)             [(None, 89)]         0           []                               \n",
            "                                                                                                  \n",
            " evidence (InputLayer)          [(None, 89)]         0           []                               \n",
            "                                                                                                  \n",
            " claim_embedding (Embedding)    (None, 89, 300)      11466300    ['claim[0][0]']                  \n",
            "                                                                                                  \n",
            " evidence_embedding (Embedding)  (None, 89, 300)     11466300    ['evidence[0][0]']               \n",
            "                                                                                                  \n",
            " bidirectional (Bidirectional)  (None, 600)          1442400     ['claim_embedding[0][0]']        \n",
            "                                                                                                  \n",
            " bidirectional_1 (Bidirectional  (None, 600)         1442400     ['evidence_embedding[0][0]']     \n",
            " )                                                                                                \n",
            "                                                                                                  \n",
            " average (Average)              (None, 600)          0           ['bidirectional[0][0]',          \n",
            "                                                                  'bidirectional_1[0][0]']        \n",
            "                                                                                                  \n",
            " FC1 (Dense)                    (None, 128)          76928       ['average[0][0]']                \n",
            "                                                                                                  \n",
            " dropout (Dropout)              (None, 128)          0           ['FC1[0][0]']                    \n",
            "                                                                                                  \n",
            " FC2 (Dense)                    (None, 256)          33024       ['dropout[0][0]']                \n",
            "                                                                                                  \n",
            " dropout_1 (Dropout)            (None, 256)          0           ['FC2[0][0]']                    \n",
            "                                                                                                  \n",
            " output (Dense)                 (None, 2)            514         ['dropout_1[0][0]']              \n",
            "                                                                                                  \n",
            "==================================================================================================\n",
            "Total params: 25,927,866\n",
            "Trainable params: 2,995,266\n",
            "Non-trainable params: 22,932,600\n",
            "__________________________________________________________________________________________________\n"
          ]
        }
      ],
      "source": [
        "model_1.summary()"
      ]
    },
    {
      "cell_type": "code",
      "execution_count": 39,
      "metadata": {
        "id": "b2gKhmTSypaA"
      },
      "outputs": [],
      "source": [
        "#keras.utils.plot_model(model_1, \"RNN_last_state.png\")"
      ]
    },
    {
      "cell_type": "markdown",
      "metadata": {
        "id": "AaiwyiT03_mw"
      },
      "source": [
        "## 4.2 Model 2 : RNN with mean of generated states"
      ]
    },
    {
      "cell_type": "code",
      "execution_count": 40,
      "metadata": {
        "id": "wtDOGvEY0A8z"
      },
      "outputs": [],
      "source": [
        "def build_model_2(\n",
        "    embedding_matrix,\n",
        "    max_pad_len,\n",
        "    config_info: Dict,\n",
        "    compile_info: Dict):\n",
        "  \"\"\"\n",
        "  Build the model 1. See the report for more information\n",
        "\n",
        "  Args:\n",
        "    embedding_matrix : a pre-computed embedding matrix.\n",
        "    max_pad_len: the maximum length of the sequences.\n",
        "    config_info: a dictionary containing the info related to the model configuration\n",
        "    compile_info: a dictionary containing the info related to the compiling\n",
        "\n",
        "  Returns:\n",
        "    model: a keras model built on the configuration given\n",
        "  \"\"\"\n",
        "\n",
        "  assert config_info[\"merge_mode\"] in [\"concat\", \"sum\", \"average\"]\n",
        "\n",
        "  # Input layers\n",
        "  claim_input = keras.Input(shape=(max_pad_len, ), name='claim')\n",
        "  evidence_input = keras.Input(shape=(max_pad_len, ), name='evidence')\n",
        "\n",
        "  # Embedding layers\n",
        "  claim_embedding = Embedding(\n",
        "      input_dim=embedding_matrix.shape[0],\n",
        "      output_dim=embedding_matrix.shape[1],\n",
        "      embeddings_initializer = tf.keras.initializers.Constant(embedding_matrix),\n",
        "      trainable = False,\n",
        "      mask_zero = False,\n",
        "      name='claim_embedding'\n",
        "  )(claim_input)\n",
        "\n",
        "  evidence_embedding = Embedding(\n",
        "      input_dim=embedding_matrix.shape[0],\n",
        "      output_dim=embedding_matrix.shape[1],\n",
        "      embeddings_initializer = tf.keras.initializers.Constant(embedding_matrix),\n",
        "      trainable = False,\n",
        "      mask_zero = False,\n",
        "      name='evidence_embedding'\n",
        "  )(evidence_input)\n",
        "\n",
        "  # Encoding layers: to produce the Sentence Embeddings\n",
        "  claim_encoding = Bidirectional(LSTM(units=config_info['enc_units'],\n",
        "                                      return_sequences=True,\n",
        "                                      kernel_regularizer=tf.keras.regularizers.l2(config_info['regularizer']),\n",
        "                                      name='claim_encoding'))(claim_embedding)\n",
        "  \n",
        "  evidence_encoding = Bidirectional(LSTM(units=config_info['enc_units'],\n",
        "                          return_sequences=True,\n",
        "                          kernel_regularizer=tf.keras.regularizers.l2(config_info['regularizer']),\n",
        "                          name='evidence_encoding'))(evidence_embedding)\n",
        "\n",
        "  # Since now the Bi-LSTM produces an output of the shape (None, max_pad_len, units) in order\n",
        "  # to collapse the second dimension we average the obtained values \n",
        "  claim_encoding = tf.reduce_mean(claim_encoding, axis=1)\n",
        "  evidence_encoding = tf.reduce_mean(evidence_encoding, axis=1)\n",
        "\n",
        "  # Merge layer\n",
        "  if(config_info['merge_mode'] == 'average'):\n",
        "    merged = tf.keras.layers.Average()([claim_encoding, evidence_encoding])\n",
        "  elif(config_info['merge_mode'] == 'sum'):\n",
        "    merged = tf.keras.layers.Add()([claim_encoding, evidence_encoding])\n",
        "  elif(config_info['merge_mode'] == 'concat'):\n",
        "    merged = tf.keras.layers.Concatenate(axis=1)([claim_encoding, evidence_encoding])\n",
        "\n",
        "  if(config_info['cosine_similarity'] == True):\n",
        "    cosine_similarity = keras.layers.Dot(axes=1, normalize=True, name='cosine_similarity')([claim_encoding, evidence_encoding])\n",
        "    merged = Concatenate(axis=1)([merged, cosine_similarity])\n",
        "\n",
        "  fc1 = Dense(units=config_info['classification_units'], \n",
        "              activation='leaky_relu', \n",
        "              kernel_regularizer=tf.keras.regularizers.l2(config_info['regularizer']),\n",
        "              name='FC1')(merged)\n",
        "\n",
        "  # Dropout layer\n",
        "  fc1 = Dropout(config_info['dropout_rate'])(fc1)\n",
        "\n",
        "  fc2 = Dense(units=config_info['classification_units']*2, \n",
        "              activation='leaky_relu', \n",
        "              kernel_regularizer=tf.keras.regularizers.l2(config_info['regularizer']),\n",
        "              name='FC2')(fc1)\n",
        "\n",
        "  # Dropout layer\n",
        "  classification_input = Dropout(config_info['dropout_rate'])(fc2)\n",
        "\n",
        "  # Classification layers\n",
        "  output = Dense(units=2, \n",
        "                 activation='softmax',\n",
        "                 kernel_regularizer=tf.keras.regularizers.l2(config_info['regularizer']),\n",
        "                 name='output')(classification_input)     \n",
        "\n",
        "  model = Model(inputs=[claim_input, evidence_input], outputs=output, name='RNN_mean_state')\n",
        "  model.compile(**compile_info)\n",
        "  return model"
      ]
    },
    {
      "cell_type": "code",
      "execution_count": 41,
      "metadata": {
        "id": "Zm2APyDP1hl6"
      },
      "outputs": [],
      "source": [
        "model_2 = build_model_2(embedding_matrix, max_length, config_info, compile_info)"
      ]
    },
    {
      "cell_type": "code",
      "execution_count": 42,
      "metadata": {
        "colab": {
          "base_uri": "https://localhost:8080/"
        },
        "id": "qdDs0Nsp1og_",
        "outputId": "a75fa329-1ba9-4b81-d532-189806436691"
      },
      "outputs": [
        {
          "name": "stdout",
          "output_type": "stream",
          "text": [
            "Model: \"RNN_mean_state\"\n",
            "__________________________________________________________________________________________________\n",
            " Layer (type)                   Output Shape         Param #     Connected to                     \n",
            "==================================================================================================\n",
            " claim (InputLayer)             [(None, 89)]         0           []                               \n",
            "                                                                                                  \n",
            " evidence (InputLayer)          [(None, 89)]         0           []                               \n",
            "                                                                                                  \n",
            " claim_embedding (Embedding)    (None, 89, 300)      11466300    ['claim[0][0]']                  \n",
            "                                                                                                  \n",
            " evidence_embedding (Embedding)  (None, 89, 300)     11466300    ['evidence[0][0]']               \n",
            "                                                                                                  \n",
            " bidirectional_2 (Bidirectional  (None, 89, 600)     1442400     ['claim_embedding[0][0]']        \n",
            " )                                                                                                \n",
            "                                                                                                  \n",
            " bidirectional_3 (Bidirectional  (None, 89, 600)     1442400     ['evidence_embedding[0][0]']     \n",
            " )                                                                                                \n",
            "                                                                                                  \n",
            " tf.math.reduce_mean (TFOpLambd  (None, 600)         0           ['bidirectional_2[0][0]']        \n",
            " a)                                                                                               \n",
            "                                                                                                  \n",
            " tf.math.reduce_mean_1 (TFOpLam  (None, 600)         0           ['bidirectional_3[0][0]']        \n",
            " bda)                                                                                             \n",
            "                                                                                                  \n",
            " average_1 (Average)            (None, 600)          0           ['tf.math.reduce_mean[0][0]',    \n",
            "                                                                  'tf.math.reduce_mean_1[0][0]']  \n",
            "                                                                                                  \n",
            " FC1 (Dense)                    (None, 128)          76928       ['average_1[0][0]']              \n",
            "                                                                                                  \n",
            " dropout_2 (Dropout)            (None, 128)          0           ['FC1[0][0]']                    \n",
            "                                                                                                  \n",
            " FC2 (Dense)                    (None, 256)          33024       ['dropout_2[0][0]']              \n",
            "                                                                                                  \n",
            " dropout_3 (Dropout)            (None, 256)          0           ['FC2[0][0]']                    \n",
            "                                                                                                  \n",
            " output (Dense)                 (None, 2)            514         ['dropout_3[0][0]']              \n",
            "                                                                                                  \n",
            "==================================================================================================\n",
            "Total params: 25,927,866\n",
            "Trainable params: 2,995,266\n",
            "Non-trainable params: 22,932,600\n",
            "__________________________________________________________________________________________________\n"
          ]
        }
      ],
      "source": [
        "model_2.summary()"
      ]
    },
    {
      "cell_type": "code",
      "execution_count": 43,
      "metadata": {
        "id": "KHArtzWp5bX3"
      },
      "outputs": [],
      "source": [
        "#keras.utils.plot_model(model_2, \"RNN_mean_state.png\")"
      ]
    },
    {
      "cell_type": "markdown",
      "metadata": {
        "id": "r1S7t1mm5r9X"
      },
      "source": [
        "## 4.3 Model 3 : MLP"
      ]
    },
    {
      "cell_type": "code",
      "execution_count": 44,
      "metadata": {
        "id": "dG4V5il23PoN"
      },
      "outputs": [],
      "source": [
        "def build_model_3(\n",
        "    embedding_matrix,\n",
        "    max_pad_len,\n",
        "    config_info: Dict,\n",
        "    compile_info: Dict):\n",
        "  \"\"\"\n",
        "  Build the model 1. See the report for more information\n",
        "\n",
        "  Args:\n",
        "    embedding_matrix : a pre-computed embedding matrix.\n",
        "    max_pad_len: the maximum length of the sequences.\n",
        "    config_info: a dictionary containing the info related to the model configuration\n",
        "    compile_info: a dictionary containing the info related to the compiling\n",
        "\n",
        "  Returns:\n",
        "    model: a keras model built on the configuration given\n",
        "  \"\"\"\n",
        "\n",
        "  assert config_info[\"merge_mode\"] in [\"concat\", \"sum\", \"average\"]\n",
        "\n",
        "  # Input layers\n",
        "  claim_input = keras.Input(shape=(max_pad_len, ), name='claim')\n",
        "  evidence_input = keras.Input(shape=(max_pad_len, ), name='evidence')\n",
        "\n",
        "  # Embedding layers\n",
        "  claim_embedding = Embedding(\n",
        "      input_dim=embedding_matrix.shape[0],\n",
        "      output_dim=embedding_matrix.shape[1],\n",
        "      embeddings_initializer = tf.keras.initializers.Constant(embedding_matrix),\n",
        "      trainable = False,\n",
        "      mask_zero = False,\n",
        "      name='claim_embedding'\n",
        "  )(claim_input)\n",
        "\n",
        "  evidence_embedding = Embedding(\n",
        "      input_dim=embedding_matrix.shape[0],\n",
        "      output_dim=embedding_matrix.shape[1],\n",
        "      embeddings_initializer = tf.keras.initializers.Constant(embedding_matrix),\n",
        "      trainable = False,\n",
        "      mask_zero = False,\n",
        "      name='evidence_embedding'\n",
        "  )(evidence_input)\n",
        "\n",
        "  # Encoding layers: to produce the Sentence Embeddings\n",
        "  # Reshape of the embedded before passing them to the MLP\n",
        "  # from [batch_size, max_tokens, embedding_dim] to [batch_size, max_tokens * embedding_dim]\n",
        "  claim_flatten  = tf.reshape(claim_embedding, [-1, max_pad_len * embedding_dimension])\n",
        "  evidence_flatten  = tf.reshape(evidence_embedding, [-1, max_pad_len * embedding_dimension])\n",
        "\n",
        "  #MLP layers, we divide the number of units in order to reduce considerably the number of params\n",
        "  claim_encoding = Dense(config_info['enc_units']//2, \n",
        "                         activation = 'relu',\n",
        "                         kernel_regularizer=tf.keras.regularizers.l2(config_info['regularizer']),\n",
        "                         name='claim_encoding')(claim_flatten)\n",
        "  evidence_encoding = Dense(config_info['enc_units']//2, \n",
        "                            activation = 'relu', \n",
        "                            kernel_regularizer=tf.keras.regularizers.l2(config_info['regularizer']),\n",
        "                            name='evidence_encoding')(evidence_flatten)\n",
        "\n",
        "  # Merge layer\n",
        "  if(config_info['merge_mode'] == 'average'):\n",
        "    merged = tf.keras.layers.Average()([claim_encoding, evidence_encoding])\n",
        "  elif(config_info['merge_mode'] == 'sum'):\n",
        "    merged = tf.keras.layers.Add()([claim_encoding, evidence_encoding])\n",
        "  elif(config_info['merge_mode'] == 'concat'):\n",
        "    merged = tf.keras.layers.Concatenate(axis=1)([claim_encoding, evidence_encoding])\n",
        "\n",
        "  if(config_info['cosine_similarity'] == True):\n",
        "    cosine_similarity = keras.layers.Dot(axes=1, normalize=True, name='cosine_similarity')([claim_encoding, evidence_encoding])\n",
        "    merged = Concatenate(axis=1)([merged, cosine_similarity])\n",
        "\n",
        "  fc1 = Dense(units=config_info['classification_units'], \n",
        "              activation='leaky_relu', \n",
        "              kernel_regularizer=tf.keras.regularizers.l2(config_info['regularizer']),\n",
        "              name='FC1')(merged)\n",
        "\n",
        "  # Dropout layer\n",
        "  fc1 = Dropout(config_info['dropout_rate'])(fc1)\n",
        "\n",
        "  fc2 = Dense(units=config_info['classification_units']*2, \n",
        "              activation='leaky_relu', \n",
        "              kernel_regularizer=tf.keras.regularizers.l2(config_info['regularizer']),\n",
        "              name='FC2')(fc1)\n",
        "\n",
        "  # Dropout layer\n",
        "  classification_input = Dropout(config_info['dropout_rate'])(fc2)\n",
        "\n",
        "  # Classification layers\n",
        "  output = Dense(units=2, \n",
        "                 activation='softmax',\n",
        "                 kernel_regularizer=tf.keras.regularizers.l2(config_info['regularizer']),\n",
        "                 name='output')(classification_input)     \n",
        "\n",
        "  model = Model(inputs=[claim_input, evidence_input], outputs=output, name='MLP')\n",
        "  model.compile(**compile_info)\n",
        "  return model"
      ]
    },
    {
      "cell_type": "code",
      "execution_count": 45,
      "metadata": {
        "id": "QqDM2eWu5B20"
      },
      "outputs": [],
      "source": [
        "model_3 = build_model_3(embedding_matrix, max_length, config_info, compile_info)"
      ]
    },
    {
      "cell_type": "code",
      "execution_count": 46,
      "metadata": {
        "colab": {
          "base_uri": "https://localhost:8080/"
        },
        "id": "Tj3_BqWn5Jp4",
        "outputId": "e9e2590c-3275-4586-9c0b-a1deac678527"
      },
      "outputs": [
        {
          "name": "stdout",
          "output_type": "stream",
          "text": [
            "Model: \"MLP\"\n",
            "__________________________________________________________________________________________________\n",
            " Layer (type)                   Output Shape         Param #     Connected to                     \n",
            "==================================================================================================\n",
            " claim (InputLayer)             [(None, 89)]         0           []                               \n",
            "                                                                                                  \n",
            " evidence (InputLayer)          [(None, 89)]         0           []                               \n",
            "                                                                                                  \n",
            " claim_embedding (Embedding)    (None, 89, 300)      11466300    ['claim[0][0]']                  \n",
            "                                                                                                  \n",
            " evidence_embedding (Embedding)  (None, 89, 300)     11466300    ['evidence[0][0]']               \n",
            "                                                                                                  \n",
            " tf.reshape (TFOpLambda)        (None, 26700)        0           ['claim_embedding[0][0]']        \n",
            "                                                                                                  \n",
            " tf.reshape_1 (TFOpLambda)      (None, 26700)        0           ['evidence_embedding[0][0]']     \n",
            "                                                                                                  \n",
            " claim_encoding (Dense)         (None, 150)          4005150     ['tf.reshape[0][0]']             \n",
            "                                                                                                  \n",
            " evidence_encoding (Dense)      (None, 150)          4005150     ['tf.reshape_1[0][0]']           \n",
            "                                                                                                  \n",
            " average_2 (Average)            (None, 150)          0           ['claim_encoding[0][0]',         \n",
            "                                                                  'evidence_encoding[0][0]']      \n",
            "                                                                                                  \n",
            " FC1 (Dense)                    (None, 128)          19328       ['average_2[0][0]']              \n",
            "                                                                                                  \n",
            " dropout_4 (Dropout)            (None, 128)          0           ['FC1[0][0]']                    \n",
            "                                                                                                  \n",
            " FC2 (Dense)                    (None, 256)          33024       ['dropout_4[0][0]']              \n",
            "                                                                                                  \n",
            " dropout_5 (Dropout)            (None, 256)          0           ['FC2[0][0]']                    \n",
            "                                                                                                  \n",
            " output (Dense)                 (None, 2)            514         ['dropout_5[0][0]']              \n",
            "                                                                                                  \n",
            "==================================================================================================\n",
            "Total params: 30,995,766\n",
            "Trainable params: 8,063,166\n",
            "Non-trainable params: 22,932,600\n",
            "__________________________________________________________________________________________________\n"
          ]
        }
      ],
      "source": [
        "model_3.summary()"
      ]
    },
    {
      "cell_type": "code",
      "execution_count": 47,
      "metadata": {
        "colab": {
          "base_uri": "https://localhost:8080/",
          "height": 0
        },
        "id": "FJnC_shD6AY4",
        "outputId": "e8da424f-4506-4e3c-a36a-aca7de371ccd"
      },
      "outputs": [
        {
          "data": {
            "image/png": "[encoded data removed]",
            "text/plain": [
              "<IPython.core.display.Image object>"
            ]
          },
          "execution_count": 47,
          "metadata": {},
          "output_type": "execute_result"
        }
      ],
      "source": [
        "keras.utils.plot_model(model_3, \"MLP.png\")"
      ]
    },
    {
      "cell_type": "markdown",
      "metadata": {
        "id": "zQ_lF5NE6CNR"
      },
      "source": [
        "## 4.4 Model 4 : Bag of Vector"
      ]
    },
    {
      "cell_type": "code",
      "execution_count": 48,
      "metadata": {
        "id": "bp748Q5S6_vI"
      },
      "outputs": [],
      "source": [
        "def build_model_4(\n",
        "    embedding_matrix,\n",
        "    max_pad_len,\n",
        "    config_info: Dict,\n",
        "    compile_info: Dict):\n",
        "  \"\"\"\n",
        "  Build the model 1. See the report for more information\n",
        "\n",
        "  Args:\n",
        "    embedding_matrix : a pre-computed embedding matrix.\n",
        "    max_pad_len: the maximum length of the sequences.\n",
        "    config_info: a dictionary containing the info related to the model configuration\n",
        "    compile_info: a dictionary containing the info related to the compiling\n",
        "\n",
        "  Returns:\n",
        "    model: a keras model built on the configuration given\n",
        "  \"\"\"\n",
        "\n",
        "  assert config_info[\"merge_mode\"] in [\"concat\", \"sum\", \"average\"]\n",
        "\n",
        "  # Input layers\n",
        "  claim_input = keras.Input(shape=(max_pad_len, ), name='claim')\n",
        "  evidence_input = keras.Input(shape=(max_pad_len, ), name='evidence')\n",
        "\n",
        "  # Embedding layers\n",
        "  claim_embedding = Embedding(\n",
        "      input_dim=embedding_matrix.shape[0],\n",
        "      output_dim=embedding_matrix.shape[1],\n",
        "      embeddings_initializer = tf.keras.initializers.Constant(embedding_matrix),\n",
        "      trainable = False,\n",
        "      mask_zero = False,\n",
        "      name='claim_embedding'\n",
        "  )(claim_input)\n",
        "\n",
        "  evidence_embedding = Embedding(\n",
        "      input_dim=embedding_matrix.shape[0],\n",
        "      output_dim=embedding_matrix.shape[1],\n",
        "      embeddings_initializer = tf.keras.initializers.Constant(embedding_matrix),\n",
        "      trainable = False,\n",
        "      mask_zero = False,\n",
        "      name='evidence_embedding'\n",
        "  )(evidence_input)\n",
        "\n",
        "  # Encoding layers: to produce the Sentence Embeddings\n",
        "  # # Flatten\n",
        "  # claim_flatten  = tf.reshape(claim_embedding, [-1, max_pad_len * embedding_dimension])\n",
        "  # evidence_flatten  = tf.reshape(evidence_embedding, [-1, max_pad_len * embedding_dimension])\n",
        "\n",
        "  # # Compute the mean\n",
        "  # claim_encoding = tf.reduce_mean(claim_flatten, axis=-1)\n",
        "  # evidence_encoding = tf.reduce_mean(evidence_flatten, axis=-1)\n",
        "\n",
        "  # The sentence embedding will be the mean of its embeddings, this means that the \n",
        "  # the expected shape will be (None, embedding_dimension)\n",
        "  claim_encoding = tf.keras.layers.GlobalAveragePooling1D()(claim_embedding)\n",
        "  evidence_encoding = tf.keras.layers.GlobalAveragePooling1D()(evidence_embedding)\n",
        "\n",
        "  # Merge layer\n",
        "  if(config_info['merge_mode'] == 'average'):\n",
        "    merged = tf.keras.layers.Average()([claim_encoding, evidence_encoding])\n",
        "  elif(config_info['merge_mode'] == 'sum'):\n",
        "    merged = tf.keras.layers.Add()([claim_encoding, evidence_encoding])\n",
        "  elif(config_info['merge_mode'] == 'concat'):\n",
        "    merged = tf.keras.layers.Concatenate(axis=1)([claim_encoding, evidence_encoding])\n",
        "\n",
        "  if(config_info['cosine_similarity'] == True):\n",
        "    cosine_similarity = keras.layers.Dot(axes=1, normalize=True, name='cosine_similarity')([claim_encoding, evidence_encoding])\n",
        "    merged = Concatenate(axis=1)([merged, cosine_similarity])\n",
        "\n",
        "  fc1 = Dense(units=config_info['classification_units'], \n",
        "              activation='leaky_relu', \n",
        "              kernel_regularizer=tf.keras.regularizers.l2(config_info['regularizer']),\n",
        "              name='FC1')(merged)\n",
        "\n",
        "  # Dropout layer\n",
        "  fc1 = Dropout(config_info['dropout_rate'])(fc1)\n",
        "\n",
        "  fc2 = Dense(units=config_info['classification_units']*2, \n",
        "              activation='leaky_relu', \n",
        "              kernel_regularizer=tf.keras.regularizers.l2(config_info['regularizer']),\n",
        "              name='FC2')(fc1)\n",
        "\n",
        "  # Dropout layer\n",
        "  classification_input = Dropout(config_info['dropout_rate'])(fc2)\n",
        "\n",
        "  # Classification layers\n",
        "  output = Dense(units=2, \n",
        "                 activation='softmax',\n",
        "                 kernel_regularizer=tf.keras.regularizers.l2(config_info['regularizer']),\n",
        "                 name='output')(classification_input)     \n",
        "\n",
        "  model = Model(inputs=[claim_input, evidence_input], outputs=output, name='BoV')\n",
        "  model.compile(**compile_info)\n",
        "  return model"
      ]
    },
    {
      "cell_type": "code",
      "execution_count": 49,
      "metadata": {
        "id": "Zh6nBYqh9L7q"
      },
      "outputs": [],
      "source": [
        "model_4 = build_model_4(embedding_matrix, max_length, config_info, compile_info)"
      ]
    },
    {
      "cell_type": "code",
      "execution_count": 50,
      "metadata": {
        "colab": {
          "base_uri": "https://localhost:8080/"
        },
        "id": "vs-GKFKi9P0Q",
        "outputId": "c57cae80-a868-446e-e944-5e502769e3fc"
      },
      "outputs": [
        {
          "name": "stdout",
          "output_type": "stream",
          "text": [
            "Model: \"BoV\"\n",
            "__________________________________________________________________________________________________\n",
            " Layer (type)                   Output Shape         Param #     Connected to                     \n",
            "==================================================================================================\n",
            " claim (InputLayer)             [(None, 89)]         0           []                               \n",
            "                                                                                                  \n",
            " evidence (InputLayer)          [(None, 89)]         0           []                               \n",
            "                                                                                                  \n",
            " claim_embedding (Embedding)    (None, 89, 300)      11466300    ['claim[0][0]']                  \n",
            "                                                                                                  \n",
            " evidence_embedding (Embedding)  (None, 89, 300)     11466300    ['evidence[0][0]']               \n",
            "                                                                                                  \n",
            " global_average_pooling1d (Glob  (None, 300)         0           ['claim_embedding[0][0]']        \n",
            " alAveragePooling1D)                                                                              \n",
            "                                                                                                  \n",
            " global_average_pooling1d_1 (Gl  (None, 300)         0           ['evidence_embedding[0][0]']     \n",
            " obalAveragePooling1D)                                                                            \n",
            "                                                                                                  \n",
            " average_3 (Average)            (None, 300)          0           ['global_average_pooling1d[0][0]'\n",
            "                                                                 , 'global_average_pooling1d_1[0][\n",
            "                                                                 0]']                             \n",
            "                                                                                                  \n",
            " FC1 (Dense)                    (None, 128)          38528       ['average_3[0][0]']              \n",
            "                                                                                                  \n",
            " dropout_6 (Dropout)            (None, 128)          0           ['FC1[0][0]']                    \n",
            "                                                                                                  \n",
            " FC2 (Dense)                    (None, 256)          33024       ['dropout_6[0][0]']              \n",
            "                                                                                                  \n",
            " dropout_7 (Dropout)            (None, 256)          0           ['FC2[0][0]']                    \n",
            "                                                                                                  \n",
            " output (Dense)                 (None, 2)            514         ['dropout_7[0][0]']              \n",
            "                                                                                                  \n",
            "==================================================================================================\n",
            "Total params: 23,004,666\n",
            "Trainable params: 72,066\n",
            "Non-trainable params: 22,932,600\n",
            "__________________________________________________________________________________________________\n"
          ]
        }
      ],
      "source": [
        "model_4.summary()"
      ]
    },
    {
      "cell_type": "code",
      "execution_count": 51,
      "metadata": {
        "id": "tMMdlZQ36OFE"
      },
      "outputs": [],
      "source": [
        "#keras.utils.plot_model(model_4, \"BOV.png\")"
      ]
    },
    {
      "cell_type": "markdown",
      "metadata": {
        "id": "pzb66Qz2lOUb"
      },
      "source": [
        "# 5. Training"
      ]
    },
    {
      "cell_type": "markdown",
      "metadata": {
        "id": "jN7Y9GFOB7SF"
      },
      "source": [
        "## 5.1 Hyperparameter tuning: KerasTuner\n",
        "\n",
        "To ease the tuning we will define a method that will build a user-specified model."
      ]
    },
    {
      "cell_type": "code",
      "execution_count": 52,
      "metadata": {
        "id": "QqO0u5lmC-aC"
      },
      "outputs": [],
      "source": [
        "def build_model(embedding_matrix,\n",
        "                max_pad_len,\n",
        "                config_info: Dict,\n",
        "                compile_info: Dict):\n",
        "  if config_info['model_name'] == 'RNN_last_state':\n",
        "    return build_model_1(embedding_matrix, max_pad_len, config_info, compile_info)\n",
        "  elif config_info['model_name'] == 'RNN_mean_state':\n",
        "    return build_model_2(embedding_matrix, max_pad_len, config_info, compile_info)\n",
        "  elif config_info['model_name'] == 'MLP':\n",
        "    return build_model_3(embedding_matrix, max_pad_len, config_info, compile_info) \n",
        "  elif config_info['model_name'] == 'BoV':\n",
        "    return build_model_4(embedding_matrix, max_pad_len, config_info, compile_info)  "
      ]
    },
    {
      "cell_type": "markdown",
      "metadata": {
        "id": "kMFBmH2Ak0z8"
      },
      "source": [
        "Here the code part for the automatic tuning. You do not have to run it, you can simply skip it to the results part. Still, for completeness we will report the associated snippet.\n",
        "\n",
        "The hyperparameter space focuses on the most important paramenters, that is we let the `KerasTuner` search for the following optimal parameters:\n",
        "1. the model type, in order to get the best kind of model among the ones defined,\n",
        "2. the merging modality, as such we can get a better idea if one method is better than the other,\n",
        "3. the dropout rate,\n",
        "4. the regularizer lambda,\n",
        "5. the number of units used in the models,\n",
        "6. the optimizer's learning rate."
      ]
    },
    {
      "cell_type": "code",
      "execution_count": 53,
      "metadata": {
        "id": "IGNDN4VaCHc9"
      },
      "outputs": [],
      "source": [
        "if keras_tuner:  \n",
        "  # Max epochs for the KerasTuner\n",
        "  epochs_tuning = 20\n",
        "\n",
        "  # Batch size used\n",
        "  batch_size_tuning = 128\n",
        "\n",
        "  # tune the hyperparameters of the possible choices\n",
        "  tuner = kt.Hyperband(lambda hp: build_model(embedding_matrix=embedding_matrix,\n",
        "                                              max_pad_len=max_length, \n",
        "                                              config_info={\n",
        "                                                  \"model_name\": hp.Choice('model_name', [\"RNN_last_state\", \"RNN_mean_state\", \"MLP\", \"BoV\"]),\n",
        "                                                  \"merge_mode\": hp.Choice('merge_mode', [\"concat\", \"sum\", \"average\"]),\n",
        "                                                  \"dropout_rate\": hp.Choice('dropout_rate', [0.3]),\n",
        "                                                  \"regularizer\": hp.Choice(\"regularizer\", [1e-3, 5e-4]),\n",
        "                                                  \"enc_units\":  hp.Choice('units', [300, 600]),\n",
        "                                                  \"classification_units\":  hp.Choice('units', [128]),\n",
        "                                                  \"cosine_similarity\": True\n",
        "                                              }, \n",
        "                                              compile_info={\n",
        "                                                  'loss': keras.losses.BinaryCrossentropy(from_logits=False),\n",
        "                                                  'optimizer': keras.optimizers.Adam(learning_rate=hp.Choice('learning_rate', [1e-2, 5e-3])),\n",
        "                                                  'metrics': [keras.metrics.BinaryAccuracy(name='accuracy'), tfa.metrics.F1Score(num_classes=2, threshold=0.5)]    \n",
        "                                              }),\n",
        "                      objective=kt.Objective(\"val_accuracy\", direction=\"max\"),\n",
        "                      max_epochs=epochs_tuning,\n",
        "                      overwrite=True,\n",
        "                      directory=\"tuner\",\n",
        "                      project_name=\"tuner_fact_checking\"\n",
        "                      )\n",
        "\n",
        "  tuner.search_space_summary()\n",
        "\n",
        "  stop_early = tf.keras.callbacks.EarlyStopping(monitor='val_accuracy', patience=5, mode=\"max\", restore_best_weights=True)\n",
        "\n",
        "  tuner.search({\"claim\": X_train_claim, \"evidence\": X_train_evidence}, Y_train, \n",
        "              epochs=epochs_tuning, \n",
        "              batch_size=batch_size_tuning, \n",
        "              validation_data=({\"claim\": X_val_claim, \"evidence\": X_val_evidence}, Y_val),\n",
        "              callbacks=[stop_early])\n",
        "  best_hps = tuner.get_best_hyperparameters()[0]\n",
        "\n",
        "  print(f\"The hyperparameter search is complete.\\n\" \n",
        "        f\"The optimal sentence embedding mode is: {best_hps.get('model_name')}.\\n\" \n",
        "        f\"The optimal merging mode is: {best_hps.get('merge_mode')}.\\n\" \n",
        "        f\"The optimal regualizer rate is: {best_hps.get('regularizer')}.\\n\" \n",
        "        f\"The optimal rate for Dropout layer is: {best_hps.get('dropout_rate')}.\\n\"\n",
        "        f\"The optimal number of units is: {best_hps.get('units')}.\\n\"\n",
        "        f\"The optimal learning rate for the optimizer is: {best_hps.get('learning_rate')}.\")"
      ]
    },
    {
      "cell_type": "markdown",
      "metadata": {
        "id": "6HfxM8NnNKOg"
      },
      "source": [
        "## 5.2 Manual Training\n",
        "\n",
        "This section serves to train manually each model with the parameters provided by the keras tuner, or eventually with some user-defined parameters."
      ]
    },
    {
      "cell_type": "code",
      "execution_count": 54,
      "metadata": {
        "id": "d_SHb6hDoz4z"
      },
      "outputs": [],
      "source": [
        "def train_model(model,\n",
        "                x_train: np.ndarray,\n",
        "                y_train: np.ndarray,\n",
        "                x_val: np.ndarray,\n",
        "                y_val: np.ndarray,\n",
        "                training_info):\n",
        "    \"\"\"\n",
        "    Training routine for the Keras model.\n",
        "    At the end of the training, retrieved History data is shown.\n",
        "\n",
        "    :param model: Keras built model\n",
        "    :param x_train: training data in np.ndarray format\n",
        "    :param y_train: training labels in np.ndarray format\n",
        "    :param x_val: validation data in np.ndarray format\n",
        "    :param y_val: validation labels in np.ndarray format\n",
        "    :param training_info: dictionary storing model fit() argument information\n",
        "\n",
        "    :return\n",
        "        model: trained Keras model\n",
        "    \"\"\"\n",
        "    print(\"Start training \\nParameters: {}\".format(training_info))\n",
        "    history = model.fit(x=x_train, y=y_train,\n",
        "                        validation_data=(x_val, y_val),\n",
        "                        **training_info)\n",
        "    print(\"Training completed\")\n",
        "    return history, model\n",
        "\n",
        "def plot_history(hist):\n",
        "    fig, axs = plt.subplots(1, 2, figsize=(15,5))\n",
        "\n",
        "    fig.suptitle('Training trends')\n",
        "    axs[0].plot(hist.history['accuracy'])\n",
        "    axs[0].plot(hist.history['val_accuracy'])\n",
        "    axs[0].set_title(\"model accuracy\")\n",
        "    axs[0].set_ylabel('accuracy')\n",
        "    axs[0].set_xlabel('epoch')\n",
        "    axs[0].legend(['train', 'val'], loc='best')\n",
        "    \n",
        "    axs[1].plot(hist.history['loss'])\n",
        "    axs[1].plot(hist.history['val_loss'])\n",
        "    axs[1].set_title(\"model loss\")\n",
        "    axs[1].set_ylabel('loss')\n",
        "    axs[1].set_xlabel('epoch')\n",
        "    axs[1].legend(['train', 'val'], loc='best')\n",
        "\n",
        "    # axs[2].plot(hist.history['f1_score'])\n",
        "    # axs[2].plot(hist.history['val_f1_score'])\n",
        "    # axs[2].set_title(\"model f1 score\")\n",
        "    # axs[2].set_ylabel('f1 score')\n",
        "    # axs[2].set_xlabel('epoch')\n",
        "    # axs[2].legend(['train', 'val'], loc='best')\n",
        "\n",
        "    plt.show()"
      ]
    },
    {
      "cell_type": "markdown",
      "metadata": {
        "id": "K7YdxTL9Dl68"
      },
      "source": [
        "Here below the training info. If you want to train the model froms scratch set `training` to `True`, otherwise you can load some pre-trained models."
      ]
    },
    {
      "cell_type": "code",
      "execution_count": 55,
      "metadata": {
        "id": "_TsOdRTs9G6H"
      },
      "outputs": [],
      "source": [
        "training_info = {\n",
        "    'verbose': 1,\n",
        "    'epochs': 20,\n",
        "    'batch_size': 64,\n",
        "    'callbacks': [tf.keras.callbacks.EarlyStopping(monitor='val_accuracy', \n",
        "                                                patience=5,\n",
        "                                                mode='max',\n",
        "                                                restore_best_weights=True)],\n",
        "}\n",
        "\n",
        "models_path = \"models\"\n",
        "training = True"
      ]
    },
    {
      "cell_type": "markdown",
      "metadata": {
        "id": "j6MeoK4a9KAB"
      },
      "source": [
        "### 5.2.1 Model 1 training"
      ]
    },
    {
      "cell_type": "code",
      "execution_count": 56,
      "metadata": {
        "id": "2KZvAc4G2CR-"
      },
      "outputs": [],
      "source": [
        "config_info_1 = {\n",
        "    'enc_units': embedding_dimension,\n",
        "    'classification_units': 128,\n",
        "    # 'merge_mode': \"concat\",\n",
        "    'merge_mode': \"sum\",\n",
        "    # 'merge_mode': \"average\",\n",
        "    'cosine_similarity': True,\n",
        "    'dropout_rate': .3,\n",
        "    #'regularizer': 1e-5,\n",
        "    'regularizer': 1e-4,\n",
        "}\n",
        "\n",
        "compile_info_1 = {\n",
        "    'loss': keras.losses.BinaryCrossentropy(from_logits=False),\n",
        "    'optimizer': keras.optimizers.Adam(learning_rate=1e-3),\n",
        "    'metrics': [keras.metrics.BinaryAccuracy(name='accuracy'), tfa.metrics.F1Score(num_classes=2, threshold=0.5)]    \n",
        "}"
      ]
    },
    {
      "cell_type": "code",
      "execution_count": 57,
      "metadata": {
        "colab": {
          "base_uri": "https://localhost:8080/"
        },
        "id": "VDcewH0BaxjY",
        "outputId": "be0480ba-7f47-4ef9-a935-5e130b5396c3"
      },
      "outputs": [
        {
          "name": "stdout",
          "output_type": "stream",
          "text": [
            "Start training \n",
            "Parameters: {'verbose': 1, 'epochs': 20, 'batch_size': 64, 'callbacks': [<keras.callbacks.EarlyStopping object at 0x7f5a1b607210>]}\n",
            "Epoch 1/20\n",
            "1903/1903 [==============================] - 124s 59ms/step - loss: 0.5372 - accuracy: 0.7917 - f1_score: 0.6487 - val_loss: 0.7135 - val_accuracy: 0.6133 - val_f1_score: 0.5470\n",
            "Epoch 2/20\n",
            "1903/1903 [==============================] - 108s 57ms/step - loss: 0.4816 - accuracy: 0.8083 - f1_score: 0.6893 - val_loss: 0.7039 - val_accuracy: 0.6368 - val_f1_score: 0.5854\n",
            "Epoch 3/20\n",
            "1903/1903 [==============================] - 106s 56ms/step - loss: 0.4720 - accuracy: 0.8131 - f1_score: 0.7024 - val_loss: 0.6900 - val_accuracy: 0.6461 - val_f1_score: 0.6018\n",
            "Epoch 4/20\n",
            "1903/1903 [==============================] - 106s 56ms/step - loss: 0.4641 - accuracy: 0.8171 - f1_score: 0.7103 - val_loss: 0.6675 - val_accuracy: 0.6592 - val_f1_score: 0.6229\n",
            "Epoch 5/20\n",
            "1903/1903 [==============================] - 107s 56ms/step - loss: 0.4558 - accuracy: 0.8216 - f1_score: 0.7219 - val_loss: 0.6921 - val_accuracy: 0.6632 - val_f1_score: 0.6282\n",
            "Epoch 6/20\n",
            "1903/1903 [==============================] - 108s 57ms/step - loss: 0.4497 - accuracy: 0.8246 - f1_score: 0.7291 - val_loss: 0.6340 - val_accuracy: 0.6628 - val_f1_score: 0.6255\n",
            "Epoch 7/20\n",
            "1903/1903 [==============================] - 107s 56ms/step - loss: 0.4446 - accuracy: 0.8273 - f1_score: 0.7340 - val_loss: 0.6752 - val_accuracy: 0.6656 - val_f1_score: 0.6298\n",
            "Epoch 8/20\n",
            "1903/1903 [==============================] - 108s 57ms/step - loss: 0.4393 - accuracy: 0.8310 - f1_score: 0.7422 - val_loss: 0.6992 - val_accuracy: 0.6553 - val_f1_score: 0.6141\n",
            "Epoch 9/20\n",
            "1903/1903 [==============================] - 108s 57ms/step - loss: 0.4358 - accuracy: 0.8333 - f1_score: 0.7473 - val_loss: 0.7104 - val_accuracy: 0.6572 - val_f1_score: 0.6162\n",
            "Epoch 10/20\n",
            "1903/1903 [==============================] - 110s 58ms/step - loss: 0.4314 - accuracy: 0.8364 - f1_score: 0.7531 - val_loss: 0.7582 - val_accuracy: 0.6687 - val_f1_score: 0.6381\n",
            "Epoch 11/20\n",
            "1903/1903 [==============================] - 108s 57ms/step - loss: 0.4285 - accuracy: 0.8378 - f1_score: 0.7569 - val_loss: 0.7756 - val_accuracy: 0.6622 - val_f1_score: 0.6224\n",
            "Epoch 12/20\n",
            "1903/1903 [==============================] - 109s 57ms/step - loss: 0.4241 - accuracy: 0.8408 - f1_score: 0.7626 - val_loss: 0.7382 - val_accuracy: 0.6823 - val_f1_score: 0.6583\n",
            "Epoch 13/20\n",
            "1903/1903 [==============================] - 108s 57ms/step - loss: 0.4198 - accuracy: 0.8432 - f1_score: 0.7682 - val_loss: 0.7301 - val_accuracy: 0.6889 - val_f1_score: 0.6697\n",
            "Epoch 14/20\n",
            "1903/1903 [==============================] - 110s 58ms/step - loss: 0.4172 - accuracy: 0.8458 - f1_score: 0.7731 - val_loss: 0.7632 - val_accuracy: 0.6825 - val_f1_score: 0.6561\n",
            "Epoch 15/20\n",
            "1903/1903 [==============================] - 109s 57ms/step - loss: 0.4145 - accuracy: 0.8486 - f1_score: 0.7783 - val_loss: 0.6853 - val_accuracy: 0.6858 - val_f1_score: 0.6621\n",
            "Epoch 16/20\n",
            "1903/1903 [==============================] - 108s 57ms/step - loss: 0.4106 - accuracy: 0.8515 - f1_score: 0.7836 - val_loss: 0.7367 - val_accuracy: 0.6804 - val_f1_score: 0.6545\n",
            "Epoch 17/20\n",
            "1903/1903 [==============================] - 109s 57ms/step - loss: 0.4079 - accuracy: 0.8539 - f1_score: 0.7885 - val_loss: 0.8065 - val_accuracy: 0.6761 - val_f1_score: 0.6480\n",
            "Epoch 18/20\n",
            "1903/1903 [==============================] - 108s 57ms/step - loss: 0.4035 - accuracy: 0.8559 - f1_score: 0.7922 - val_loss: 0.7036 - val_accuracy: 0.6822 - val_f1_score: 0.6608\n",
            "Training completed\n"
          ]
        }
      ],
      "source": [
        "if not training:  \n",
        "  # load models\n",
        "  print('Loading model...')\n",
        "  model_1 = tf.keras.models.load_model(os.path.join(models_path, \"model_1\"))\n",
        "  print('Model correctly loaded.')\n",
        "\n",
        "  # Restore history\n",
        "  cols = ['loss', 'accuracy', 'val_loss', 'val_accuracy']\n",
        "  history_1 = pd.read_csv(os.path.join(models_path, \"history_1.csv\"), usecols=cols)\n",
        "else:\n",
        "  history_1, model_1 = train_model(model=build_model_1(embedding_matrix, max_length, config_info_1, compile_info_1), \n",
        "                                 x_train=[X_train_claim, X_train_evidence], \n",
        "                                 y_train=Y_train,\n",
        "                                 x_val=[X_val_claim, X_val_evidence], \n",
        "                                 y_val=Y_val, \n",
        "                                 training_info=training_info)"
      ]
    },
    {
      "cell_type": "code",
      "execution_count": 58,
      "metadata": {
        "colab": {
          "base_uri": "https://localhost:8080/",
          "height": 370
        },
        "id": "18aVTNaMHWcf",
        "outputId": "43d3f469-40ae-4108-88ab-58c8724de84f"
      },
      "outputs": [
        {
          "data": {
            "image/png": "[encoded data removed]",
            "text/plain": [
              "<Figure size 1080x360 with 2 Axes>"
            ]
          },
          "metadata": {
            "needs_background": "light"
          },
          "output_type": "display_data"
        }
      ],
      "source": [
        "plot_history(history_1)"
      ]
    },
    {
      "cell_type": "markdown",
      "metadata": {
        "id": "3GFg5AIBMxMa"
      },
      "source": [
        "Configuration: \n",
        "- batch size: `64`,\n",
        "- epochs: `18/20`,\n",
        "- learning rate: `1e-3`\n",
        "- encoding units: `300`\n",
        "- classification units: `128`\n",
        "- merge mode: `SUM`\n",
        "- dropout rate: `0.3`\n",
        "- cosine similarity extension: `True` \n",
        "- regularizer: `1e-4`\n",
        "\n",
        "Obtaining at best circa `0.69` for the accuracy on the validation set.\n",
        "\n",
        "Then we need to save the model accordingly.\n"
      ]
    },
    {
      "cell_type": "code",
      "execution_count": 59,
      "metadata": {
        "colab": {
          "base_uri": "https://localhost:8080/"
        },
        "id": "USFdIXxCaoGP",
        "outputId": "077e4b58-655f-4120-f57b-f533ebef2c84"
      },
      "outputs": [
        {
          "name": "stderr",
          "output_type": "stream",
          "text": [
            "WARNING:absl:Found untraced functions such as lstm_cell_13_layer_call_fn, lstm_cell_13_layer_call_and_return_conditional_losses, lstm_cell_14_layer_call_fn, lstm_cell_14_layer_call_and_return_conditional_losses, lstm_cell_16_layer_call_fn while saving (showing 5 of 8). These functions will not be directly callable after loading.\n"
          ]
        },
        {
          "name": "stdout",
          "output_type": "stream",
          "text": [
            "INFO:tensorflow:Assets written to: models/model_1/assets\n"
          ]
        },
        {
          "name": "stderr",
          "output_type": "stream",
          "text": [
            "INFO:tensorflow:Assets written to: models/model_1/assets\n",
            "WARNING:absl:<keras.layers.recurrent.LSTMCell object at 0x7f5a1b726c90> has the same name 'LSTMCell' as a built-in Keras object. Consider renaming <class 'keras.layers.recurrent.LSTMCell'> to avoid naming conflicts when loading with `tf.keras.models.load_model`. If renaming is not possible, pass the object in the `custom_objects` parameter of the load function.\n",
            "WARNING:absl:<keras.layers.recurrent.LSTMCell object at 0x7f5a1b623050> has the same name 'LSTMCell' as a built-in Keras object. Consider renaming <class 'keras.layers.recurrent.LSTMCell'> to avoid naming conflicts when loading with `tf.keras.models.load_model`. If renaming is not possible, pass the object in the `custom_objects` parameter of the load function.\n",
            "WARNING:absl:<keras.layers.recurrent.LSTMCell object at 0x7f5a1b578250> has the same name 'LSTMCell' as a built-in Keras object. Consider renaming <class 'keras.layers.recurrent.LSTMCell'> to avoid naming conflicts when loading with `tf.keras.models.load_model`. If renaming is not possible, pass the object in the `custom_objects` parameter of the load function.\n",
            "WARNING:absl:<keras.layers.recurrent.LSTMCell object at 0x7f5a1b47fb50> has the same name 'LSTMCell' as a built-in Keras object. Consider renaming <class 'keras.layers.recurrent.LSTMCell'> to avoid naming conflicts when loading with `tf.keras.models.load_model`. If renaming is not possible, pass the object in the `custom_objects` parameter of the load function.\n"
          ]
        }
      ],
      "source": [
        "if training:  \n",
        "  model_1.save(os.path.join(models_path, \"model_1\"))\n",
        "\n",
        "  # convert the history.history dict to a pandas DataFrame:     \n",
        "  df_history_1 = pd.DataFrame(history_1.history) \n",
        "  with open(os.path.join(models_path, \"history_1.csv\"), mode=\"w\") as file:\n",
        "      df_history_1.to_csv(file)"
      ]
    },
    {
      "cell_type": "markdown",
      "metadata": {
        "id": "oFqu1f5o9PaX"
      },
      "source": [
        "### 5.2.2 Model 2 training"
      ]
    },
    {
      "cell_type": "code",
      "execution_count": 60,
      "metadata": {
        "id": "2L-6WCsSZrv6"
      },
      "outputs": [],
      "source": [
        "config_info_2 = {\n",
        "    'enc_units': embedding_dimension,\n",
        "    'classification_units': 128,\n",
        "    # 'merge_mode': \"concat\",\n",
        "    'merge_mode': \"sum\",\n",
        "    # 'merge_mode': \"average\",\n",
        "    'cosine_similarity': True,\n",
        "    'dropout_rate': .3,\n",
        "    #'regularizer': 1e-5,\n",
        "    'regularizer': 1e-4,\n",
        "}\n",
        "\n",
        "compile_info_2 = {\n",
        "    'loss': keras.losses.BinaryCrossentropy(from_logits=False),\n",
        "    'optimizer': keras.optimizers.Adam(learning_rate=1e-3),\n",
        "    'metrics': [keras.metrics.BinaryAccuracy(name='accuracy'), tfa.metrics.F1Score(num_classes=2, threshold=0.5)]    \n",
        "}"
      ]
    },
    {
      "cell_type": "code",
      "execution_count": 61,
      "metadata": {
        "colab": {
          "base_uri": "https://localhost:8080/"
        },
        "id": "bquUgQwBOLl1",
        "outputId": "af72d836-5d97-4cac-ceec-a79b23ce7e5c"
      },
      "outputs": [
        {
          "name": "stdout",
          "output_type": "stream",
          "text": [
            "Start training \n",
            "Parameters: {'verbose': 1, 'epochs': 20, 'batch_size': 64, 'callbacks': [<keras.callbacks.EarlyStopping object at 0x7f5a1b607210>]}\n",
            "Epoch 1/20\n",
            "1903/1903 [==============================] - 119s 59ms/step - loss: 0.5390 - accuracy: 0.7828 - f1_score: 0.6160 - val_loss: 0.7334 - val_accuracy: 0.6181 - val_f1_score: 0.5577\n",
            "Epoch 2/20\n",
            "1903/1903 [==============================] - 108s 57ms/step - loss: 0.4751 - accuracy: 0.8107 - f1_score: 0.6927 - val_loss: 0.6584 - val_accuracy: 0.6609 - val_f1_score: 0.6293\n",
            "Epoch 3/20\n",
            "1903/1903 [==============================] - 109s 57ms/step - loss: 0.4559 - accuracy: 0.8202 - f1_score: 0.7173 - val_loss: 0.6839 - val_accuracy: 0.6710 - val_f1_score: 0.6461\n",
            "Epoch 4/20\n",
            "1903/1903 [==============================] - 108s 57ms/step - loss: 0.4431 - accuracy: 0.8267 - f1_score: 0.7332 - val_loss: 0.6611 - val_accuracy: 0.6650 - val_f1_score: 0.6302\n",
            "Epoch 5/20\n",
            "1903/1903 [==============================] - 108s 57ms/step - loss: 0.4330 - accuracy: 0.8322 - f1_score: 0.7461 - val_loss: 0.6450 - val_accuracy: 0.6836 - val_f1_score: 0.6597\n",
            "Epoch 6/20\n",
            "1903/1903 [==============================] - 111s 58ms/step - loss: 0.4235 - accuracy: 0.8391 - f1_score: 0.7592 - val_loss: 0.7264 - val_accuracy: 0.6600 - val_f1_score: 0.6217\n",
            "Epoch 7/20\n",
            "1903/1903 [==============================] - 108s 57ms/step - loss: 0.4150 - accuracy: 0.8434 - f1_score: 0.7686 - val_loss: 0.7271 - val_accuracy: 0.6782 - val_f1_score: 0.6519\n",
            "Epoch 8/20\n",
            "1903/1903 [==============================] - 108s 57ms/step - loss: 0.4051 - accuracy: 0.8492 - f1_score: 0.7785 - val_loss: 0.6823 - val_accuracy: 0.6939 - val_f1_score: 0.6786\n",
            "Epoch 9/20\n",
            "1903/1903 [==============================] - 108s 57ms/step - loss: 0.3971 - accuracy: 0.8553 - f1_score: 0.7899 - val_loss: 0.7978 - val_accuracy: 0.6560 - val_f1_score: 0.6172\n",
            "Epoch 10/20\n",
            "1903/1903 [==============================] - 108s 57ms/step - loss: 0.3875 - accuracy: 0.8604 - f1_score: 0.7991 - val_loss: 0.6924 - val_accuracy: 0.6909 - val_f1_score: 0.6761\n",
            "Epoch 11/20\n",
            "1903/1903 [==============================] - 108s 57ms/step - loss: 0.3786 - accuracy: 0.8656 - f1_score: 0.8083 - val_loss: 0.7542 - val_accuracy: 0.6822 - val_f1_score: 0.6625\n",
            "Epoch 12/20\n",
            "1903/1903 [==============================] - 108s 57ms/step - loss: 0.3703 - accuracy: 0.8708 - f1_score: 0.8175 - val_loss: 0.8051 - val_accuracy: 0.6844 - val_f1_score: 0.6646\n",
            "Epoch 13/20\n",
            "1903/1903 [==============================] - 108s 57ms/step - loss: 0.3608 - accuracy: 0.8762 - f1_score: 0.8263 - val_loss: 0.7372 - val_accuracy: 0.6953 - val_f1_score: 0.6826\n",
            "Epoch 14/20\n",
            "1903/1903 [==============================] - 108s 57ms/step - loss: 0.3519 - accuracy: 0.8813 - f1_score: 0.8343 - val_loss: 0.8675 - val_accuracy: 0.6833 - val_f1_score: 0.6637\n",
            "Epoch 15/20\n",
            "1903/1903 [==============================] - 108s 57ms/step - loss: 0.3483 - accuracy: 0.8854 - f1_score: 0.8413 - val_loss: 0.8265 - val_accuracy: 0.6899 - val_f1_score: 0.6746\n",
            "Epoch 16/20\n",
            "1903/1903 [==============================] - 108s 57ms/step - loss: 0.3397 - accuracy: 0.8897 - f1_score: 0.8479 - val_loss: 0.8920 - val_accuracy: 0.6916 - val_f1_score: 0.6792\n",
            "Epoch 17/20\n",
            "1903/1903 [==============================] - 108s 57ms/step - loss: 0.3303 - accuracy: 0.8945 - f1_score: 0.8552 - val_loss: 0.9030 - val_accuracy: 0.6816 - val_f1_score: 0.6659\n",
            "Epoch 18/20\n",
            "1903/1903 [==============================] - 108s 57ms/step - loss: 0.3224 - accuracy: 0.8980 - f1_score: 0.8611 - val_loss: 0.9244 - val_accuracy: 0.6830 - val_f1_score: 0.6657\n",
            "Training completed\n"
          ]
        }
      ],
      "source": [
        "if not training:  \n",
        "  # load models\n",
        "  print('Loading model...')\n",
        "  model_2 = tf.keras.models.load_model(os.path.join(models_path, \"model_2\"))\n",
        "  print('Model correctly loaded.')\n",
        "\n",
        "  # Restore history\n",
        "  cols = ['loss', 'accuracy', 'val_loss', 'val_accuracy']\n",
        "  history_2 = pd.read_csv(os.path.join(models_path, \"history_2.csv\"), usecols=cols)\n",
        "else:\n",
        "  history_2, model_2 = train_model(model=build_model_2(embedding_matrix, max_length, config_info_2, compile_info_2), \n",
        "                                 x_train=[X_train_claim, X_train_evidence], \n",
        "                                 y_train=Y_train,\n",
        "                                 x_val=[X_val_claim, X_val_evidence], \n",
        "                                 y_val=Y_val, \n",
        "                                 training_info=training_info)"
      ]
    },
    {
      "cell_type": "code",
      "execution_count": 62,
      "metadata": {
        "colab": {
          "base_uri": "https://localhost:8080/",
          "height": 370
        },
        "id": "A-brrFBZHi6m",
        "outputId": "7412fd9e-c972-4da5-a1db-ac785e017d55"
      },
      "outputs": [
        {
          "data": {
            "image/png": "[encoded data removed]",
            "text/plain": [
              "<Figure size 1080x360 with 2 Axes>"
            ]
          },
          "metadata": {
            "needs_background": "light"
          },
          "output_type": "display_data"
        }
      ],
      "source": [
        "plot_history(history_2)"
      ]
    },
    {
      "cell_type": "markdown",
      "metadata": {
        "id": "e5JVKGwEw4S2"
      },
      "source": [
        "Configuration: \n",
        "- batch size: `64`,\n",
        "- epochs: `14/20`,\n",
        "- learning rate: `1e-3`\n",
        "- encoding units: `300`\n",
        "- classification units: `128`\n",
        "- merge mode: `SUM`\n",
        "- dropout rate: `0.3`\n",
        "- cosine similarity extension: `True` \n",
        "- regularizer: `1e-4`\n",
        "\n",
        "Obtaining at best `0.6920` accuracy on the validation set.\n",
        "\n",
        "Then we need to save the model accordingly.\n"
      ]
    },
    {
      "cell_type": "code",
      "execution_count": 63,
      "metadata": {
        "colab": {
          "base_uri": "https://localhost:8080/"
        },
        "id": "LGshSlKLfYRX",
        "outputId": "fbbf0ef5-9996-46de-9aff-4a93d22a336f"
      },
      "outputs": [
        {
          "name": "stderr",
          "output_type": "stream",
          "text": [
            "WARNING:absl:Found untraced functions such as lstm_cell_19_layer_call_fn, lstm_cell_19_layer_call_and_return_conditional_losses, lstm_cell_20_layer_call_fn, lstm_cell_20_layer_call_and_return_conditional_losses, lstm_cell_22_layer_call_fn while saving (showing 5 of 8). These functions will not be directly callable after loading.\n"
          ]
        },
        {
          "name": "stdout",
          "output_type": "stream",
          "text": [
            "INFO:tensorflow:Assets written to: models/model_2/assets\n"
          ]
        },
        {
          "name": "stderr",
          "output_type": "stream",
          "text": [
            "INFO:tensorflow:Assets written to: models/model_2/assets\n",
            "WARNING:absl:<keras.layers.recurrent.LSTMCell object at 0x7f5a2993f810> has the same name 'LSTMCell' as a built-in Keras object. Consider renaming <class 'keras.layers.recurrent.LSTMCell'> to avoid naming conflicts when loading with `tf.keras.models.load_model`. If renaming is not possible, pass the object in the `custom_objects` parameter of the load function.\n",
            "WARNING:absl:<keras.layers.recurrent.LSTMCell object at 0x7f5a298dc350> has the same name 'LSTMCell' as a built-in Keras object. Consider renaming <class 'keras.layers.recurrent.LSTMCell'> to avoid naming conflicts when loading with `tf.keras.models.load_model`. If renaming is not possible, pass the object in the `custom_objects` parameter of the load function.\n",
            "WARNING:absl:<keras.layers.recurrent.LSTMCell object at 0x7f5a27d0a510> has the same name 'LSTMCell' as a built-in Keras object. Consider renaming <class 'keras.layers.recurrent.LSTMCell'> to avoid naming conflicts when loading with `tf.keras.models.load_model`. If renaming is not possible, pass the object in the `custom_objects` parameter of the load function.\n",
            "WARNING:absl:<keras.layers.recurrent.LSTMCell object at 0x7f59c367ef90> has the same name 'LSTMCell' as a built-in Keras object. Consider renaming <class 'keras.layers.recurrent.LSTMCell'> to avoid naming conflicts when loading with `tf.keras.models.load_model`. If renaming is not possible, pass the object in the `custom_objects` parameter of the load function.\n"
          ]
        }
      ],
      "source": [
        "if training:  \n",
        "  model_2.save(os.path.join(models_path, \"model_2\"))\n",
        "\n",
        "  # convert the history.history dict to a pandas DataFrame:     \n",
        "  df_history_2 = pd.DataFrame(history_2.history) \n",
        "  with open(os.path.join(models_path, \"history_2.csv\"), mode=\"w\") as file:\n",
        "      df_history_2.to_csv(file)"
      ]
    },
    {
      "cell_type": "markdown",
      "metadata": {
        "id": "bfga2MWY9SHE"
      },
      "source": [
        "### 5.2.3 Model 3 training"
      ]
    },
    {
      "cell_type": "code",
      "execution_count": 64,
      "metadata": {
        "id": "unnxCV0JZ6SU"
      },
      "outputs": [],
      "source": [
        "config_info_3 = {\n",
        "    'enc_units': embedding_dimension,\n",
        "    'classification_units': 128,\n",
        "    # 'merge_mode': \"concat\",\n",
        "    'merge_mode': \"sum\",\n",
        "    # 'merge_mode': \"average\",\n",
        "    'cosine_similarity': True,\n",
        "    'dropout_rate': .3,\n",
        "    #'regularizer': 1e-5,\n",
        "    'regularizer': 1e-4,\n",
        "}\n",
        "\n",
        "compile_info_3 = {\n",
        "    'loss': keras.losses.BinaryCrossentropy(from_logits=False),\n",
        "    'optimizer': keras.optimizers.Adam(learning_rate=1e-3),\n",
        "    'metrics': [keras.metrics.BinaryAccuracy(name='accuracy'), tfa.metrics.F1Score(num_classes=2, threshold=0.5)]    \n",
        "}"
      ]
    },
    {
      "cell_type": "code",
      "execution_count": 65,
      "metadata": {
        "colab": {
          "base_uri": "https://localhost:8080/"
        },
        "id": "UJWtlGjL9hBT",
        "outputId": "9ceb9472-9f9c-4158-86d4-d21735d41273"
      },
      "outputs": [
        {
          "name": "stdout",
          "output_type": "stream",
          "text": [
            "Start training \n",
            "Parameters: {'verbose': 1, 'epochs': 20, 'batch_size': 64, 'callbacks': [<keras.callbacks.EarlyStopping object at 0x7f5a1b607210>]}\n",
            "Epoch 1/20\n",
            "1903/1903 [==============================] - 18s 9ms/step - loss: 0.5612 - accuracy: 0.7693 - f1_score: 0.5862 - val_loss: 0.7304 - val_accuracy: 0.5976 - val_f1_score: 0.5414\n",
            "Epoch 2/20\n",
            "1903/1903 [==============================] - 18s 9ms/step - loss: 0.5137 - accuracy: 0.7867 - f1_score: 0.6363 - val_loss: 0.8323 - val_accuracy: 0.5724 - val_f1_score: 0.4772\n",
            "Epoch 3/20\n",
            "1903/1903 [==============================] - 16s 9ms/step - loss: 0.4997 - accuracy: 0.7901 - f1_score: 0.6437 - val_loss: 0.7874 - val_accuracy: 0.5860 - val_f1_score: 0.5050\n",
            "Epoch 4/20\n",
            "1903/1903 [==============================] - 15s 8ms/step - loss: 0.4915 - accuracy: 0.7930 - f1_score: 0.6499 - val_loss: 0.7288 - val_accuracy: 0.5718 - val_f1_score: 0.4757\n",
            "Epoch 5/20\n",
            "1903/1903 [==============================] - 16s 8ms/step - loss: 0.4865 - accuracy: 0.7952 - f1_score: 0.6557 - val_loss: 0.6652 - val_accuracy: 0.6018 - val_f1_score: 0.5487\n",
            "Epoch 6/20\n",
            "1903/1903 [==============================] - 15s 8ms/step - loss: 0.4825 - accuracy: 0.7972 - f1_score: 0.6616 - val_loss: 0.6840 - val_accuracy: 0.6047 - val_f1_score: 0.5493\n",
            "Epoch 7/20\n",
            "1903/1903 [==============================] - 15s 8ms/step - loss: 0.4798 - accuracy: 0.7986 - f1_score: 0.6660 - val_loss: 0.7760 - val_accuracy: 0.5756 - val_f1_score: 0.4822\n",
            "Epoch 8/20\n",
            "1903/1903 [==============================] - 15s 8ms/step - loss: 0.4765 - accuracy: 0.8000 - f1_score: 0.6720 - val_loss: 0.7460 - val_accuracy: 0.5881 - val_f1_score: 0.5081\n",
            "Epoch 9/20\n",
            "1903/1903 [==============================] - 15s 8ms/step - loss: 0.4755 - accuracy: 0.8020 - f1_score: 0.6757 - val_loss: 0.7071 - val_accuracy: 0.6060 - val_f1_score: 0.5479\n",
            "Epoch 10/20\n",
            "1903/1903 [==============================] - 15s 8ms/step - loss: 0.4736 - accuracy: 0.8024 - f1_score: 0.6783 - val_loss: 0.7203 - val_accuracy: 0.5922 - val_f1_score: 0.5176\n",
            "Epoch 11/20\n",
            "1903/1903 [==============================] - 15s 8ms/step - loss: 0.4732 - accuracy: 0.8023 - f1_score: 0.6796 - val_loss: 0.7276 - val_accuracy: 0.6040 - val_f1_score: 0.5436\n",
            "Epoch 12/20\n",
            "1903/1903 [==============================] - 15s 8ms/step - loss: 0.4730 - accuracy: 0.8030 - f1_score: 0.6812 - val_loss: 0.7105 - val_accuracy: 0.6261 - val_f1_score: 0.5946\n",
            "Epoch 13/20\n",
            "1903/1903 [==============================] - 15s 8ms/step - loss: 0.4703 - accuracy: 0.8052 - f1_score: 0.6859 - val_loss: 0.7722 - val_accuracy: 0.5922 - val_f1_score: 0.5198\n",
            "Epoch 14/20\n",
            "1903/1903 [==============================] - 15s 8ms/step - loss: 0.4717 - accuracy: 0.8039 - f1_score: 0.6836 - val_loss: 0.7944 - val_accuracy: 0.6039 - val_f1_score: 0.5421\n",
            "Epoch 15/20\n",
            "1903/1903 [==============================] - 15s 8ms/step - loss: 0.4710 - accuracy: 0.8049 - f1_score: 0.6868 - val_loss: 0.8006 - val_accuracy: 0.6103 - val_f1_score: 0.5696\n",
            "Epoch 16/20\n",
            "1903/1903 [==============================] - 15s 8ms/step - loss: 0.4719 - accuracy: 0.8051 - f1_score: 0.6878 - val_loss: 0.7052 - val_accuracy: 0.6244 - val_f1_score: 0.5891\n",
            "Epoch 17/20\n",
            "1903/1903 [==============================] - 15s 8ms/step - loss: 0.4713 - accuracy: 0.8058 - f1_score: 0.6896 - val_loss: 0.7696 - val_accuracy: 0.6127 - val_f1_score: 0.5698\n",
            "Training completed\n"
          ]
        }
      ],
      "source": [
        "if not training:  \n",
        "  # load models\n",
        "  print('Loading model...')\n",
        "  model_3 = tf.keras.models.load_model(os.path.join(models_path, \"model_3\"))\n",
        "  print('Model correctly loaded.')\n",
        "\n",
        "  # Restore history\n",
        "  cols = ['loss', 'accuracy', 'val_loss', 'val_accuracy']\n",
        "  history_3 = pd.read_csv(os.path.join(models_path, \"history_3.csv\"), usecols=cols)\n",
        "else:\n",
        "  history_3, model_3 = train_model(model=build_model_3(embedding_matrix, max_length, config_info_3, compile_info_3), \n",
        "                                 x_train=[X_train_claim, X_train_evidence], \n",
        "                                 y_train=Y_train,\n",
        "                                 x_val=[X_val_claim, X_val_evidence], \n",
        "                                 y_val=Y_val, \n",
        "                                 training_info=training_info)"
      ]
    },
    {
      "cell_type": "code",
      "execution_count": 66,
      "metadata": {
        "colab": {
          "base_uri": "https://localhost:8080/",
          "height": 0
        },
        "id": "ICYbozZcHl5i",
        "outputId": "e345447c-55a8-46f9-d1bd-4bddc85be377"
      },
      "outputs": [
        {
          "data": {
            "image/png": "[encoded data removed]",
            "text/plain": [
              "<Figure size 1080x360 with 2 Axes>"
            ]
          },
          "metadata": {
            "needs_background": "light"
          },
          "output_type": "display_data"
        }
      ],
      "source": [
        "plot_history(history_3)"
      ]
    },
    {
      "cell_type": "markdown",
      "metadata": {
        "id": "nCi75U1zdxHd"
      },
      "source": [
        "Configuration: \n",
        "\n",
        "- batch size: `64`,\n",
        "- epochs: `06/20`,\n",
        "- learning rate: `1e-3`\n",
        "- encoding units: `300`\n",
        "- classification units: `128`\n",
        "- merge mode: `SUM`\n",
        "- dropout rate: `0.3`\n",
        "- cosine similarity extension: `True` \n",
        "- regularizer: `1e-4`\n",
        "Obtaining at best `0.6201` accuracy on the validation set.\n",
        "\n",
        "Then we need to save the model accordingly.\n"
      ]
    },
    {
      "cell_type": "code",
      "execution_count": 67,
      "metadata": {
        "colab": {
          "base_uri": "https://localhost:8080/"
        },
        "id": "h4IV0jNtd0TG",
        "outputId": "8b588629-a48d-49ad-9429-e41607a60a13"
      },
      "outputs": [
        {
          "name": "stdout",
          "output_type": "stream",
          "text": [
            "INFO:tensorflow:Assets written to: models/model_3/assets\n"
          ]
        },
        {
          "name": "stderr",
          "output_type": "stream",
          "text": [
            "INFO:tensorflow:Assets written to: models/model_3/assets\n"
          ]
        }
      ],
      "source": [
        "if training:  \n",
        "  model_3.save(os.path.join(models_path, \"model_3\"))\n",
        "\n",
        "  # convert the history.history dict to a pandas DataFrame:     \n",
        "  df_history_3 = pd.DataFrame(history_3.history) \n",
        "  with open(os.path.join(models_path, \"history_3.csv\"), mode=\"w\") as file:\n",
        "      df_history_3.to_csv(file)"
      ]
    },
    {
      "cell_type": "markdown",
      "metadata": {
        "id": "-O-sCBBc9VT6"
      },
      "source": [
        "### 5.2.4 Model 4 training"
      ]
    },
    {
      "cell_type": "code",
      "execution_count": 68,
      "metadata": {
        "id": "Evvv5t6uaChL"
      },
      "outputs": [],
      "source": [
        "config_info_4 = {\n",
        "    'enc_units': embedding_dimension,\n",
        "    'classification_units': 128,\n",
        "    # 'merge_mode': \"concat\",\n",
        "    'merge_mode': \"sum\",\n",
        "    # 'merge_mode': \"average\",\n",
        "    'cosine_similarity': True,\n",
        "    'dropout_rate': .3,\n",
        "    #'regularizer': 1e-5,\n",
        "    'regularizer': 1e-4,\n",
        "}\n",
        "\n",
        "compile_info_4 = {\n",
        "    'loss': keras.losses.BinaryCrossentropy(from_logits=False),\n",
        "    'optimizer': keras.optimizers.Adam(learning_rate=1e-2),\n",
        "    'metrics': [keras.metrics.BinaryAccuracy(name='accuracy'), tfa.metrics.F1Score(num_classes=2, threshold=0.5)]    \n",
        "}"
      ]
    },
    {
      "cell_type": "code",
      "execution_count": 69,
      "metadata": {
        "colab": {
          "base_uri": "https://localhost:8080/"
        },
        "id": "N_7L9c7eaD_n",
        "outputId": "564e66df-6a70-454b-bef3-b2069d25c925"
      },
      "outputs": [
        {
          "name": "stdout",
          "output_type": "stream",
          "text": [
            "Start training \n",
            "Parameters: {'verbose': 1, 'epochs': 20, 'batch_size': 64}\n",
            "Epoch 1/20\n",
            "1903/1903 [==============================] - 11s 5ms/step - loss: 0.5881 - accuracy: 0.7340 - f1_score: 0.4240 - val_loss: 0.8094 - val_accuracy: 0.5040 - val_f1_score: 0.3351\n",
            "Epoch 2/20\n",
            "1903/1903 [==============================] - 12s 6ms/step - loss: 0.5860 - accuracy: 0.7338 - f1_score: 0.4247 - val_loss: 0.8368 - val_accuracy: 0.5040 - val_f1_score: 0.3351\n",
            "Epoch 3/20\n",
            "1903/1903 [==============================] - 13s 7ms/step - loss: 0.5868 - accuracy: 0.7337 - f1_score: 0.4240 - val_loss: 0.7120 - val_accuracy: 0.5040 - val_f1_score: 0.3351\n",
            "Epoch 4/20\n",
            "1903/1903 [==============================] - 10s 5ms/step - loss: 0.5864 - accuracy: 0.7330 - f1_score: 0.4258 - val_loss: 0.8121 - val_accuracy: 0.5040 - val_f1_score: 0.3351\n",
            "Epoch 5/20\n",
            "1903/1903 [==============================] - 9s 5ms/step - loss: 0.5867 - accuracy: 0.7334 - f1_score: 0.4257 - val_loss: 0.7999 - val_accuracy: 0.5040 - val_f1_score: 0.3351\n",
            "Epoch 6/20\n",
            "1903/1903 [==============================] - 9s 5ms/step - loss: 0.5867 - accuracy: 0.7339 - f1_score: 0.4242 - val_loss: 0.8067 - val_accuracy: 0.5040 - val_f1_score: 0.3351\n",
            "Epoch 7/20\n",
            "1903/1903 [==============================] - 9s 5ms/step - loss: 0.5881 - accuracy: 0.7333 - f1_score: 0.4252 - val_loss: 0.8302 - val_accuracy: 0.5040 - val_f1_score: 0.3351\n",
            "Epoch 8/20\n",
            "1903/1903 [==============================] - 9s 5ms/step - loss: 0.5866 - accuracy: 0.7337 - f1_score: 0.4240 - val_loss: 0.7926 - val_accuracy: 0.5040 - val_f1_score: 0.3351\n",
            "Epoch 9/20\n",
            "1903/1903 [==============================] - 9s 5ms/step - loss: 0.5795 - accuracy: 0.7343 - f1_score: 0.4234 - val_loss: 0.8109 - val_accuracy: 0.5040 - val_f1_score: 0.3351\n",
            "Epoch 10/20\n",
            "1903/1903 [==============================] - 9s 5ms/step - loss: 0.6151 - accuracy: 0.7308 - f1_score: 0.4311 - val_loss: 0.8068 - val_accuracy: 0.5040 - val_f1_score: 0.3351\n",
            "Epoch 11/20\n",
            "1903/1903 [==============================] - 9s 5ms/step - loss: 0.5793 - accuracy: 0.7343 - f1_score: 0.4234 - val_loss: 0.8122 - val_accuracy: 0.5040 - val_f1_score: 0.3351\n",
            "Epoch 12/20\n",
            "1903/1903 [==============================] - 9s 5ms/step - loss: 0.5867 - accuracy: 0.7335 - f1_score: 0.4251 - val_loss: 0.8247 - val_accuracy: 0.5040 - val_f1_score: 0.3351\n",
            "Epoch 13/20\n",
            "1903/1903 [==============================] - 9s 5ms/step - loss: 0.5866 - accuracy: 0.7336 - f1_score: 0.4250 - val_loss: 0.8149 - val_accuracy: 0.5040 - val_f1_score: 0.3351\n",
            "Epoch 14/20\n",
            "1903/1903 [==============================] - 9s 5ms/step - loss: 0.5912 - accuracy: 0.7321 - f1_score: 0.4269 - val_loss: 0.8268 - val_accuracy: 0.5040 - val_f1_score: 0.3351\n",
            "Epoch 15/20\n",
            "1903/1903 [==============================] - 9s 5ms/step - loss: 0.5841 - accuracy: 0.7338 - f1_score: 0.4245 - val_loss: 0.8158 - val_accuracy: 0.5040 - val_f1_score: 0.3351\n",
            "Epoch 16/20\n",
            "1903/1903 [==============================] - 9s 5ms/step - loss: 0.5895 - accuracy: 0.7321 - f1_score: 0.4267 - val_loss: 0.8098 - val_accuracy: 0.5040 - val_f1_score: 0.3351\n",
            "Epoch 17/20\n",
            "1903/1903 [==============================] - 9s 5ms/step - loss: 0.5830 - accuracy: 0.7341 - f1_score: 0.4239 - val_loss: 0.8091 - val_accuracy: 0.5040 - val_f1_score: 0.3351\n",
            "Epoch 18/20\n",
            "1903/1903 [==============================] - 9s 5ms/step - loss: 0.5889 - accuracy: 0.7338 - f1_score: 0.4247 - val_loss: 0.8262 - val_accuracy: 0.5040 - val_f1_score: 0.3351\n",
            "Epoch 19/20\n",
            "1903/1903 [==============================] - 9s 5ms/step - loss: 0.5864 - accuracy: 0.7340 - f1_score: 0.4239 - val_loss: 0.8389 - val_accuracy: 0.5040 - val_f1_score: 0.3351\n",
            "Epoch 20/20\n",
            "1903/1903 [==============================] - 10s 5ms/step - loss: 0.5862 - accuracy: 0.7333 - f1_score: 0.4244 - val_loss: 0.7895 - val_accuracy: 0.5040 - val_f1_score: 0.3351\n",
            "Training completed\n"
          ]
        }
      ],
      "source": [
        "if not training:  \n",
        "  # load models\n",
        "  print('Loading model...')\n",
        "  model_4 = tf.keras.models.load_model(os.path.join(models_path, \"model_4\"))\n",
        "  print('Model correctly loaded.')\n",
        "\n",
        "  # Restore history\n",
        "  cols = ['loss', 'accuracy', 'val_loss', 'val_accuracy']\n",
        "  history_4 = pd.read_csv(os.path.join(models_path, \"history_4.csv\"), usecols=cols)\n",
        "else:\n",
        "  history_4, model_4 = train_model(model=build_model_4(embedding_matrix, max_length, config_info_4, compile_info_4), \n",
        "                                 x_train=[X_train_claim, X_train_evidence], \n",
        "                                 y_train=Y_train,\n",
        "                                 x_val=[X_val_claim, X_val_evidence], \n",
        "                                 y_val=Y_val, \n",
        "                                 training_info={\n",
        "                                  'verbose': 1,\n",
        "                                  'epochs': 20,\n",
        "                                  'batch_size': 64\n",
        "                                  })"
      ]
    },
    {
      "cell_type": "code",
      "execution_count": 70,
      "metadata": {
        "colab": {
          "base_uri": "https://localhost:8080/",
          "height": 0
        },
        "id": "vRBS0Vz9HoBZ",
        "outputId": "f90afcf6-a9b0-4502-c9dc-1ac6bf6d08d7"
      },
      "outputs": [
        {
          "data": {
            "image/png": "[encoded data removed]",
            "text/plain": [
              "<Figure size 1080x360 with 2 Axes>"
            ]
          },
          "metadata": {
            "needs_background": "light"
          },
          "output_type": "display_data"
        }
      ],
      "source": [
        "plot_history(history_4)"
      ]
    },
    {
      "cell_type": "markdown",
      "metadata": {
        "id": "uuHXDWiGeZFj"
      },
      "source": [
        "Configuration: \n",
        "- batch size: `64`,\n",
        "- epochs: `20/20`,\n",
        "- learning rate: `1e-3`\n",
        "- encoding units: `300`\n",
        "- classification units: `128`\n",
        "- merge mode: `SUM`\n",
        "- dropout rate: `0.3`\n",
        "- cosine similarity extension: `True` \n",
        "- regularizer: `1e-4`\n",
        "\n",
        "Obtaining at best `0.5040` accuracy on the validation set.\n",
        "\n",
        "Then we need to save the model accordingly."
      ]
    },
    {
      "cell_type": "code",
      "execution_count": 71,
      "metadata": {
        "colab": {
          "base_uri": "https://localhost:8080/"
        },
        "id": "kRLQ8BWseRRN",
        "outputId": "914ead73-b76e-42a6-b760-2698a2dfefff"
      },
      "outputs": [
        {
          "name": "stdout",
          "output_type": "stream",
          "text": [
            "INFO:tensorflow:Assets written to: models/model_4/assets\n"
          ]
        },
        {
          "name": "stderr",
          "output_type": "stream",
          "text": [
            "INFO:tensorflow:Assets written to: models/model_4/assets\n"
          ]
        }
      ],
      "source": [
        "if training:  \n",
        "  model_4.save(os.path.join(models_path, \"model_4\"))\n",
        "\n",
        "  # convert the history.history dict to a pandas DataFrame:     \n",
        "  df_history_4 = pd.DataFrame(history_4.history) \n",
        "  with open(os.path.join(models_path, \"history_4.csv\"), mode=\"w\") as file:\n",
        "      df_history_4.to_csv(file)"
      ]
    },
    {
      "cell_type": "markdown",
      "metadata": {
        "id": "JbOFRwawlSR9"
      },
      "source": [
        "# 6. Evaluation and Inference\n",
        "\n",
        "At this point we can evaluate the model on the predictions produced by our models."
      ]
    },
    {
      "cell_type": "markdown",
      "metadata": {
        "id": "hiGL0rFYA6RV"
      },
      "source": [
        "## 6.1 Multi-Input classification evaluation"
      ]
    },
    {
      "cell_type": "code",
      "execution_count": 72,
      "metadata": {
        "id": "_HL13WJV6xJH"
      },
      "outputs": [],
      "source": [
        "def evaluate_predictions(model,\n",
        "                         X_test,\n",
        "                         y_test):\n",
        "  \"\"\"\n",
        "  Evaluates given model predictions\n",
        "  \"\"\"\n",
        "  claim_test, evidence_test = X_test\n",
        "  y_pred = model.predict({\"claim\": claim_test, \"evidence\": evidence_test}, batch_size=64)\n",
        "\n",
        "  print(classification_report(y_test, np.around(y_pred), target_names=['SUPPORTS', 'REFUTES']))\n",
        "  print()\n",
        "\n",
        "  conf_matrix = confusion_matrix(np.argmax(y_test, axis=1), np.argmax(y_pred, axis=1), labels=[0, 1])\n",
        "  disp = ConfusionMatrixDisplay(conf_matrix, display_labels=['SUPPORTS', 'REFUTES'])\n",
        "  fig, ax = plt.subplots(figsize=(6,6))\n",
        "  disp.plot(ax=ax)"
      ]
    },
    {
      "cell_type": "code",
      "execution_count": 73,
      "metadata": {
        "colab": {
          "base_uri": "https://localhost:8080/",
          "height": 559
        },
        "id": "TVJBJWW_-BOM",
        "outputId": "44bd212c-bd4e-4513-f945-17090ac7814f"
      },
      "outputs": [
        {
          "name": "stdout",
          "output_type": "stream",
          "text": [
            "              precision    recall  f1-score   support\n",
            "\n",
            "    SUPPORTS       0.63      0.92      0.74      3606\n",
            "     REFUTES       0.84      0.45      0.59      3583\n",
            "\n",
            "   micro avg       0.68      0.68      0.68      7189\n",
            "   macro avg       0.73      0.68      0.67      7189\n",
            "weighted avg       0.73      0.68      0.67      7189\n",
            " samples avg       0.68      0.68      0.68      7189\n",
            "\n",
            "\n"
          ]
        },
        {
          "data": {
            "image/png": "[encoded data removed]",
            "text/plain": [
              "<Figure size 432x432 with 2 Axes>"
            ]
          },
          "metadata": {
            "needs_background": "light"
          },
          "output_type": "display_data"
        }
      ],
      "source": [
        "report_multi_1 = evaluate_predictions(model=model_1, X_test=[X_test_claim, X_test_evidence], y_test=Y_test)"
      ]
    },
    {
      "cell_type": "code",
      "execution_count": 74,
      "metadata": {
        "colab": {
          "base_uri": "https://localhost:8080/",
          "height": 559
        },
        "id": "EZCRD_jjGsCL",
        "outputId": "3b0d32df-80dd-47c4-c049-af0f5b1b5533"
      },
      "outputs": [
        {
          "name": "stdout",
          "output_type": "stream",
          "text": [
            "              precision    recall  f1-score   support\n",
            "\n",
            "    SUPPORTS       0.63      0.86      0.73      3606\n",
            "     REFUTES       0.78      0.50      0.61      3583\n",
            "\n",
            "   micro avg       0.68      0.68      0.68      7189\n",
            "   macro avg       0.70      0.68      0.67      7189\n",
            "weighted avg       0.70      0.68      0.67      7189\n",
            " samples avg       0.68      0.68      0.68      7189\n",
            "\n",
            "\n"
          ]
        },
        {
          "data": {
            "image/png": "[encoded data removed]",
            "text/plain": [
              "<Figure size 432x432 with 2 Axes>"
            ]
          },
          "metadata": {
            "needs_background": "light"
          },
          "output_type": "display_data"
        }
      ],
      "source": [
        "report_multi_2 = evaluate_predictions(model=model_2, X_test=[X_test_claim, X_test_evidence], y_test=Y_test)"
      ]
    },
    {
      "cell_type": "code",
      "execution_count": 75,
      "metadata": {
        "colab": {
          "base_uri": "https://localhost:8080/",
          "height": 559
        },
        "id": "DT2AJ4MnG2nJ",
        "outputId": "aa7534c9-4118-4d76-97c8-14b6f85c165e"
      },
      "outputs": [
        {
          "name": "stdout",
          "output_type": "stream",
          "text": [
            "              precision    recall  f1-score   support\n",
            "\n",
            "    SUPPORTS       0.57      0.87      0.69      3606\n",
            "     REFUTES       0.73      0.35      0.47      3583\n",
            "\n",
            "   micro avg       0.61      0.61      0.61      7189\n",
            "   macro avg       0.65      0.61      0.58      7189\n",
            "weighted avg       0.65      0.61      0.58      7189\n",
            " samples avg       0.61      0.61      0.61      7189\n",
            "\n",
            "\n"
          ]
        },
        {
          "data": {
            "image/png": "[encoded data removed]",
            "text/plain": [
              "<Figure size 432x432 with 2 Axes>"
            ]
          },
          "metadata": {
            "needs_background": "light"
          },
          "output_type": "display_data"
        }
      ],
      "source": [
        "report_multi_3 = evaluate_predictions(model=model_3, X_test=[X_test_claim, X_test_evidence], y_test=Y_test)"
      ]
    },
    {
      "cell_type": "code",
      "execution_count": 76,
      "metadata": {
        "colab": {
          "base_uri": "https://localhost:8080/",
          "height": 619
        },
        "id": "kesMZ41oG4uC",
        "outputId": "2a06c11b-7556-4371-f5b9-6a7118585291"
      },
      "outputs": [
        {
          "name": "stderr",
          "output_type": "stream",
          "text": [
            "/usr/local/lib/python3.7/dist-packages/sklearn/metrics/_classification.py:1318: UndefinedMetricWarning: Precision and F-score are ill-defined and being set to 0.0 in labels with no predicted samples. Use `zero_division` parameter to control this behavior.\n",
            "  _warn_prf(average, modifier, msg_start, len(result))\n"
          ]
        },
        {
          "name": "stdout",
          "output_type": "stream",
          "text": [
            "              precision    recall  f1-score   support\n",
            "\n",
            "    SUPPORTS       0.50      1.00      0.67      3606\n",
            "     REFUTES       0.00      0.00      0.00      3583\n",
            "\n",
            "   micro avg       0.50      0.50      0.50      7189\n",
            "   macro avg       0.25      0.50      0.33      7189\n",
            "weighted avg       0.25      0.50      0.34      7189\n",
            " samples avg       0.50      0.50      0.50      7189\n",
            "\n",
            "\n"
          ]
        },
        {
          "data": {
            "image/png": "[encoded data removed]",
            "text/plain": [
              "<Figure size 432x432 with 2 Axes>"
            ]
          },
          "metadata": {
            "needs_background": "light"
          },
          "output_type": "display_data"
        }
      ],
      "source": [
        "report_multi_4 = evaluate_predictions(model=model_4, X_test=[X_test_claim, X_test_evidence], y_test=Y_test)"
      ]
    },
    {
      "cell_type": "markdown",
      "metadata": {
        "id": "RaA0YnR-A-Gg"
      },
      "source": [
        "## 6.2 Claim Verification evaluation"
      ]
    },
    {
      "cell_type": "code",
      "execution_count": 77,
      "metadata": {
        "id": "vwq_255oACCL"
      },
      "outputs": [],
      "source": [
        "def compute_majority_votes(claim_list):\n",
        "    claim_labelled_list = []\n",
        "    for t in claim_list:\n",
        "        claim = t[1]\n",
        "        labels = t[3]\n",
        "        if(labels.count('SUPPORTS') > labels.count('REFUTES')):\n",
        "            claim_label = 'SUPPORTS'\n",
        "        else:\n",
        "            claim_label = 'REFUTES'\n",
        "        claim_labelled_list.append(claim_label)\n",
        "\n",
        "    return claim_labelled_list\n",
        "  \n",
        "def grouping_majority_voting(df):\n",
        "    groupby_id = df.groupby(\"ID\").agg(list)\n",
        "    groupby_id = groupby_id.reset_index()\n",
        "    #groupby_claims = groupby_claims.drop([\"ID\"],axis=1)\n",
        "    grouped_id_list = groupby_id.values.tolist()\n",
        "    return compute_majority_votes(grouped_id_list)\n",
        "\n",
        "def predictions_to_dataframe(df, predictions):\n",
        "    # Extract predicted one-hot enconded labels \n",
        "    df_r = df.copy()\n",
        "    imax = np.argmax(predictions, axis=1)\n",
        "    pred_labels = ['SUPPORTS' if i == 0 else 'REFUTES' for i in imax]\n",
        "    \n",
        "    df_r = df_r.drop([\"Label\"], axis=1)\n",
        "    df_r[\"Label\"] = pd.Series(pred_labels, index=df_r.index)\n",
        "    return df_r\n",
        "\n",
        "def claim_verification(model, X_test, y_test, test_claim_list):\n",
        "  claim_test, evidence_test = X_test\n",
        "  y_pred = model.predict({\"claim\": claim_test, \"evidence\": evidence_test}, batch_size=64)\n",
        "\n",
        "  predicted_claim_list = grouping_majority_voting(predictions_to_dataframe(df_test, y_pred))\n",
        "  print(classification_report(test_claim_list, predicted_claim_list, zero_division=0, target_names=['SUPPORTS', 'REFUTES'] ))\n",
        "  print(f\"Macro F1: {f1_score(test_claim_list, predicted_claim_list, average='macro')}\")\n",
        "\n",
        "test_claim_list = grouping_majority_voting(df_test)"
      ]
    },
    {
      "cell_type": "code",
      "execution_count": 78,
      "metadata": {
        "colab": {
          "base_uri": "https://localhost:8080/"
        },
        "id": "0NUfw0NcQmP8",
        "outputId": "d97c3e55-5820-4019-b386-3385d76bf189"
      },
      "outputs": [
        {
          "name": "stdout",
          "output_type": "stream",
          "text": [
            "              precision    recall  f1-score   support\n",
            "\n",
            "    SUPPORTS       0.84      0.45      0.59      3304\n",
            "     REFUTES       0.63      0.92      0.74      3309\n",
            "\n",
            "    accuracy                           0.68      6613\n",
            "   macro avg       0.73      0.68      0.66      6613\n",
            "weighted avg       0.73      0.68      0.66      6613\n",
            "\n",
            "Macro F1: 0.6646646195453136\n"
          ]
        }
      ],
      "source": [
        "claim_verification(model_1, X_test=[X_test_claim, X_test_evidence], y_test=Y_test, test_claim_list=test_claim_list)"
      ]
    },
    {
      "cell_type": "code",
      "execution_count": 79,
      "metadata": {
        "colab": {
          "base_uri": "https://localhost:8080/"
        },
        "id": "-VxoJng6D1DR",
        "outputId": "78bcc73f-ad5a-4846-c07b-a11de1d7760c"
      },
      "outputs": [
        {
          "name": "stdout",
          "output_type": "stream",
          "text": [
            "              precision    recall  f1-score   support\n",
            "\n",
            "    SUPPORTS       0.78      0.50      0.61      3304\n",
            "     REFUTES       0.63      0.86      0.73      3309\n",
            "\n",
            "    accuracy                           0.68      6613\n",
            "   macro avg       0.71      0.68      0.67      6613\n",
            "weighted avg       0.71      0.68      0.67      6613\n",
            "\n",
            "Macro F1: 0.6677838919743696\n"
          ]
        }
      ],
      "source": [
        "claim_verification(model_2, X_test=[X_test_claim, X_test_evidence], y_test=Y_test, test_claim_list=test_claim_list)"
      ]
    },
    {
      "cell_type": "code",
      "execution_count": 80,
      "metadata": {
        "colab": {
          "base_uri": "https://localhost:8080/"
        },
        "id": "TKZObfNPFKxE",
        "outputId": "fbf317da-fc96-4c28-8697-fceb4eedac0a"
      },
      "outputs": [
        {
          "name": "stdout",
          "output_type": "stream",
          "text": [
            "              precision    recall  f1-score   support\n",
            "\n",
            "    SUPPORTS       0.73      0.35      0.48      3304\n",
            "     REFUTES       0.57      0.87      0.69      3309\n",
            "\n",
            "    accuracy                           0.61      6613\n",
            "   macro avg       0.65      0.61      0.58      6613\n",
            "weighted avg       0.65      0.61      0.58      6613\n",
            "\n",
            "Macro F1: 0.584588816525156\n"
          ]
        }
      ],
      "source": [
        "claim_verification(model_3, X_test=[X_test_claim, X_test_evidence], y_test=Y_test, test_claim_list=test_claim_list)"
      ]
    },
    {
      "cell_type": "code",
      "execution_count": 81,
      "metadata": {
        "colab": {
          "base_uri": "https://localhost:8080/"
        },
        "id": "vTgcZp-WFLUN",
        "outputId": "74c20765-8484-478c-a549-de3631090782"
      },
      "outputs": [
        {
          "name": "stdout",
          "output_type": "stream",
          "text": [
            "              precision    recall  f1-score   support\n",
            "\n",
            "    SUPPORTS       0.00      0.00      0.00      3304\n",
            "     REFUTES       0.50      1.00      0.67      3309\n",
            "\n",
            "    accuracy                           0.50      6613\n",
            "   macro avg       0.25      0.50      0.33      6613\n",
            "weighted avg       0.25      0.50      0.33      6613\n",
            "\n",
            "Macro F1: 0.33350131021971374\n"
          ]
        }
      ],
      "source": [
        "claim_verification(model_4, X_test=[X_test_claim, X_test_evidence], y_test=Y_test, test_claim_list=test_claim_list)"
      ]
    },
    {
      "cell_type": "markdown",
      "metadata": {
        "id": "pZk2P2RZlVb_"
      },
      "source": [
        "#9. Summary and discussions"
      ]
    },
    {
      "cell_type": "markdown",
      "metadata": {
        "id": "V_VoOKcIIJHX"
      },
      "source": [
        "At the end it is possible to see how the first model is the one that provides best results in both training and evaluation phase. So the model having the **Bi-LSTM layers** that takes only the **last state** of them is best while the worst is the **BoV** model."
      ]
    }
  ],
  "metadata": {
    "accelerator": "GPU",
    "colab": {
      "collapsed_sections": [
        "Mn6RzzFSzOrI",
        "Sk1fgbfS_7Sv",
        "1u94VrUrzRyL",
        "Nii-PRcHbctt",
        "WCreA3p60HLC",
        "xy1XwbR9zT7g",
        "fTw3NC1SlJkB",
        "M6kr5pRc3zy8",
        "oEZ18iRfyH_K",
        "sDNsk2p3HFy4",
        "KSs9LHUEZvz6",
        "mnX4vJddGqtf",
        "YUKQTqviaiZR",
        "WWvBz3wWlMlh",
        "NZtzbklDhNiM",
        "AaiwyiT03_mw",
        "r1S7t1mm5r9X",
        "zQ_lF5NE6CNR",
        "j6MeoK4a9KAB",
        "oFqu1f5o9PaX",
        "bfga2MWY9SHE"
      ],
      "name": "Assignment2_rossetto_pisciotta.ipynb",
      "provenance": []
    },
    "gpuClass": "standard",
    "kernelspec": {
      "display_name": "Python 3.7.13 ('nlp-assignment')",
      "language": "python",
      "name": "python3"
    },
    "language_info": {
      "codemirror_mode": {
        "name": "ipython",
        "version": 3
      },
      "file_extension": ".py",
      "mimetype": "text/x-python",
      "name": "python",
      "nbconvert_exporter": "python",
      "pygments_lexer": "ipython3",
      "version": "3.7.13"
    },
    "vscode": {
      "interpreter": {
        "hash": "d0c2402476082fc21c24defe3efff1649591604ca65a3471eec087590e749b73"
      }
    }
  },
  "nbformat": 4,
  "nbformat_minor": 0
}
